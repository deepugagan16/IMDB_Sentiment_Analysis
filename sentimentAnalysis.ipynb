{
  "nbformat": 4,
  "nbformat_minor": 0,
  "metadata": {
    "colab": {
      "provenance": [],
      "gpuType": "T4"
    },
    "kernelspec": {
      "name": "python3",
      "display_name": "Python 3"
    },
    "language_info": {
      "name": "python"
    },
    "accelerator": "GPU"
  },
  "cells": [
    {
      "cell_type": "markdown",
      "source": [
        "# ****SENTIMENT ANALYSIS****"
      ],
      "metadata": {
        "id": "JGlwT5yj4nLP"
      }
    },
    {
      "cell_type": "markdown",
      "source": [
        "# *Connecting google drive (for saving the model)*"
      ],
      "metadata": {
        "id": "ZSZ3gCux41FU"
      }
    },
    {
      "cell_type": "code",
      "execution_count": 2,
      "metadata": {
        "colab": {
          "base_uri": "https://localhost:8080/"
        },
        "id": "vHVLh8EYbjw4",
        "outputId": "c25f060a-d258-4db7-da71-df61ecc754b3"
      },
      "outputs": [
        {
          "output_type": "stream",
          "name": "stdout",
          "text": [
            "Mounted at ./content\n"
          ]
        }
      ],
      "source": [
        "from google.colab import drive\n",
        "drive.mount('./content')"
      ]
    },
    {
      "cell_type": "markdown",
      "source": [
        "# *Downloading the Dataset*\n",
        "\n",
        "\n",
        "1.   Upload the kaggle.json file for authnetication and authorization\n",
        "2.   Downloading the dataset from Kaggle\n",
        "3.   Unzipping the zip file downloaded\n",
        "\n"
      ],
      "metadata": {
        "id": "bkHgB6Pq5H5A"
      }
    },
    {
      "cell_type": "code",
      "source": [
        "from google.colab import files\n",
        "files.upload() #upload the kaggle.json file"
      ],
      "metadata": {
        "colab": {
          "base_uri": "https://localhost:8080/",
          "height": 86
        },
        "id": "E_wQ4p81c1sd",
        "outputId": "1273776e-3c17-4646-dad9-813473b83582"
      },
      "execution_count": 2,
      "outputs": [
        {
          "output_type": "display_data",
          "data": {
            "text/plain": [
              "<IPython.core.display.HTML object>"
            ],
            "text/html": [
              "\n",
              "     <input type=\"file\" id=\"files-6757bc26-cd08-404a-9297-5f49ae3d3f04\" name=\"files[]\" multiple disabled\n",
              "        style=\"border:none\" />\n",
              "     <output id=\"result-6757bc26-cd08-404a-9297-5f49ae3d3f04\">\n",
              "      Upload widget is only available when the cell has been executed in the\n",
              "      current browser session. Please rerun this cell to enable.\n",
              "      </output>\n",
              "      <script>// Copyright 2017 Google LLC\n",
              "//\n",
              "// Licensed under the Apache License, Version 2.0 (the \"License\");\n",
              "// you may not use this file except in compliance with the License.\n",
              "// You may obtain a copy of the License at\n",
              "//\n",
              "//      http://www.apache.org/licenses/LICENSE-2.0\n",
              "//\n",
              "// Unless required by applicable law or agreed to in writing, software\n",
              "// distributed under the License is distributed on an \"AS IS\" BASIS,\n",
              "// WITHOUT WARRANTIES OR CONDITIONS OF ANY KIND, either express or implied.\n",
              "// See the License for the specific language governing permissions and\n",
              "// limitations under the License.\n",
              "\n",
              "/**\n",
              " * @fileoverview Helpers for google.colab Python module.\n",
              " */\n",
              "(function(scope) {\n",
              "function span(text, styleAttributes = {}) {\n",
              "  const element = document.createElement('span');\n",
              "  element.textContent = text;\n",
              "  for (const key of Object.keys(styleAttributes)) {\n",
              "    element.style[key] = styleAttributes[key];\n",
              "  }\n",
              "  return element;\n",
              "}\n",
              "\n",
              "// Max number of bytes which will be uploaded at a time.\n",
              "const MAX_PAYLOAD_SIZE = 100 * 1024;\n",
              "\n",
              "function _uploadFiles(inputId, outputId) {\n",
              "  const steps = uploadFilesStep(inputId, outputId);\n",
              "  const outputElement = document.getElementById(outputId);\n",
              "  // Cache steps on the outputElement to make it available for the next call\n",
              "  // to uploadFilesContinue from Python.\n",
              "  outputElement.steps = steps;\n",
              "\n",
              "  return _uploadFilesContinue(outputId);\n",
              "}\n",
              "\n",
              "// This is roughly an async generator (not supported in the browser yet),\n",
              "// where there are multiple asynchronous steps and the Python side is going\n",
              "// to poll for completion of each step.\n",
              "// This uses a Promise to block the python side on completion of each step,\n",
              "// then passes the result of the previous step as the input to the next step.\n",
              "function _uploadFilesContinue(outputId) {\n",
              "  const outputElement = document.getElementById(outputId);\n",
              "  const steps = outputElement.steps;\n",
              "\n",
              "  const next = steps.next(outputElement.lastPromiseValue);\n",
              "  return Promise.resolve(next.value.promise).then((value) => {\n",
              "    // Cache the last promise value to make it available to the next\n",
              "    // step of the generator.\n",
              "    outputElement.lastPromiseValue = value;\n",
              "    return next.value.response;\n",
              "  });\n",
              "}\n",
              "\n",
              "/**\n",
              " * Generator function which is called between each async step of the upload\n",
              " * process.\n",
              " * @param {string} inputId Element ID of the input file picker element.\n",
              " * @param {string} outputId Element ID of the output display.\n",
              " * @return {!Iterable<!Object>} Iterable of next steps.\n",
              " */\n",
              "function* uploadFilesStep(inputId, outputId) {\n",
              "  const inputElement = document.getElementById(inputId);\n",
              "  inputElement.disabled = false;\n",
              "\n",
              "  const outputElement = document.getElementById(outputId);\n",
              "  outputElement.innerHTML = '';\n",
              "\n",
              "  const pickedPromise = new Promise((resolve) => {\n",
              "    inputElement.addEventListener('change', (e) => {\n",
              "      resolve(e.target.files);\n",
              "    });\n",
              "  });\n",
              "\n",
              "  const cancel = document.createElement('button');\n",
              "  inputElement.parentElement.appendChild(cancel);\n",
              "  cancel.textContent = 'Cancel upload';\n",
              "  const cancelPromise = new Promise((resolve) => {\n",
              "    cancel.onclick = () => {\n",
              "      resolve(null);\n",
              "    };\n",
              "  });\n",
              "\n",
              "  // Wait for the user to pick the files.\n",
              "  const files = yield {\n",
              "    promise: Promise.race([pickedPromise, cancelPromise]),\n",
              "    response: {\n",
              "      action: 'starting',\n",
              "    }\n",
              "  };\n",
              "\n",
              "  cancel.remove();\n",
              "\n",
              "  // Disable the input element since further picks are not allowed.\n",
              "  inputElement.disabled = true;\n",
              "\n",
              "  if (!files) {\n",
              "    return {\n",
              "      response: {\n",
              "        action: 'complete',\n",
              "      }\n",
              "    };\n",
              "  }\n",
              "\n",
              "  for (const file of files) {\n",
              "    const li = document.createElement('li');\n",
              "    li.append(span(file.name, {fontWeight: 'bold'}));\n",
              "    li.append(span(\n",
              "        `(${file.type || 'n/a'}) - ${file.size} bytes, ` +\n",
              "        `last modified: ${\n",
              "            file.lastModifiedDate ? file.lastModifiedDate.toLocaleDateString() :\n",
              "                                    'n/a'} - `));\n",
              "    const percent = span('0% done');\n",
              "    li.appendChild(percent);\n",
              "\n",
              "    outputElement.appendChild(li);\n",
              "\n",
              "    const fileDataPromise = new Promise((resolve) => {\n",
              "      const reader = new FileReader();\n",
              "      reader.onload = (e) => {\n",
              "        resolve(e.target.result);\n",
              "      };\n",
              "      reader.readAsArrayBuffer(file);\n",
              "    });\n",
              "    // Wait for the data to be ready.\n",
              "    let fileData = yield {\n",
              "      promise: fileDataPromise,\n",
              "      response: {\n",
              "        action: 'continue',\n",
              "      }\n",
              "    };\n",
              "\n",
              "    // Use a chunked sending to avoid message size limits. See b/62115660.\n",
              "    let position = 0;\n",
              "    do {\n",
              "      const length = Math.min(fileData.byteLength - position, MAX_PAYLOAD_SIZE);\n",
              "      const chunk = new Uint8Array(fileData, position, length);\n",
              "      position += length;\n",
              "\n",
              "      const base64 = btoa(String.fromCharCode.apply(null, chunk));\n",
              "      yield {\n",
              "        response: {\n",
              "          action: 'append',\n",
              "          file: file.name,\n",
              "          data: base64,\n",
              "        },\n",
              "      };\n",
              "\n",
              "      let percentDone = fileData.byteLength === 0 ?\n",
              "          100 :\n",
              "          Math.round((position / fileData.byteLength) * 100);\n",
              "      percent.textContent = `${percentDone}% done`;\n",
              "\n",
              "    } while (position < fileData.byteLength);\n",
              "  }\n",
              "\n",
              "  // All done.\n",
              "  yield {\n",
              "    response: {\n",
              "      action: 'complete',\n",
              "    }\n",
              "  };\n",
              "}\n",
              "\n",
              "scope.google = scope.google || {};\n",
              "scope.google.colab = scope.google.colab || {};\n",
              "scope.google.colab._files = {\n",
              "  _uploadFiles,\n",
              "  _uploadFilesContinue,\n",
              "};\n",
              "})(self);\n",
              "</script> "
            ]
          },
          "metadata": {}
        },
        {
          "output_type": "stream",
          "name": "stdout",
          "text": [
            "Saving kaggle.json to kaggle.json\n"
          ]
        },
        {
          "output_type": "execute_result",
          "data": {
            "text/plain": [
              "{'kaggle.json': b'{\"username\":\"deepugagan1612\",\"key\":\"fa4e0fb55a9962632709ef33c55f58ed\"}'}"
            ]
          },
          "metadata": {},
          "execution_count": 2
        }
      ]
    },
    {
      "cell_type": "code",
      "source": [
        "!mkdir -p ~/.kaggle\n",
        "!cp kaggle.json ~/.kaggle/\n",
        "!chmod 600 ~/.kaggle/kaggle.json"
      ],
      "metadata": {
        "id": "58lxqBkpcvlg"
      },
      "execution_count": 3,
      "outputs": []
    },
    {
      "cell_type": "code",
      "source": [
        "!kaggle datasets download -d yasserh/imdb-movie-ratings-sentiment-analysis\n"
      ],
      "metadata": {
        "colab": {
          "base_uri": "https://localhost:8080/"
        },
        "id": "_M88uCxwrCcU",
        "outputId": "1622e27e-1556-4649-9e06-0fbdc03be5a6"
      },
      "execution_count": 4,
      "outputs": [
        {
          "output_type": "stream",
          "name": "stdout",
          "text": [
            "Dataset URL: https://www.kaggle.com/datasets/yasserh/imdb-movie-ratings-sentiment-analysis\n",
            "License(s): CC0-1.0\n",
            "Downloading imdb-movie-ratings-sentiment-analysis.zip to /content\n",
            " 44% 9.00M/20.6M [00:00<00:00, 36.5MB/s]\n",
            "100% 20.6M/20.6M [00:00<00:00, 66.9MB/s]\n"
          ]
        }
      ]
    },
    {
      "cell_type": "code",
      "source": [
        "import zipfile\n",
        "import os\n",
        "\n",
        "# Unzip the dataset\n",
        "with zipfile.ZipFile('/content/imdb-movie-ratings-sentiment-analysis.zip', 'r') as zip_ref:\n",
        "    zip_ref.extractall('data')  # Extract to a folder named 'data'\n",
        "\n",
        "# List the files\n",
        "os.listdir('data')"
      ],
      "metadata": {
        "colab": {
          "base_uri": "https://localhost:8080/"
        },
        "id": "MWfLrxaUrOKm",
        "outputId": "cc487d49-b40f-4006-e5f4-be918de5b592"
      },
      "execution_count": 5,
      "outputs": [
        {
          "output_type": "execute_result",
          "data": {
            "text/plain": [
              "['movie.csv']"
            ]
          },
          "metadata": {},
          "execution_count": 5
        }
      ]
    },
    {
      "cell_type": "markdown",
      "source": [
        "# *Importing all the necessary libraries*"
      ],
      "metadata": {
        "id": "VTq4AOKP52v7"
      }
    },
    {
      "cell_type": "code",
      "source": [
        "import pandas as pd\n",
        "import numpy as np\n",
        "import os\n",
        "from tensorflow.keras.preprocessing.text import Tokenizer\n",
        "from tensorflow.keras.preprocessing.sequence import pad_sequences\n",
        "from tensorflow.keras.models import Sequential\n",
        "from tensorflow.keras.layers import Embedding, LSTM, Dense\n",
        "from sklearn.model_selection import train_test_split"
      ],
      "metadata": {
        "id": "pGRYQ82-5dW6"
      },
      "execution_count": 6,
      "outputs": []
    },
    {
      "cell_type": "markdown",
      "source": [
        "# *Data Preprocessing*"
      ],
      "metadata": {
        "id": "Z64eaIXz6BeF"
      }
    },
    {
      "cell_type": "code",
      "source": [
        "data=pd.read_csv('/content/data/movie.csv')"
      ],
      "metadata": {
        "id": "WTTxLX7d5pRW"
      },
      "execution_count": 7,
      "outputs": []
    },
    {
      "cell_type": "code",
      "source": [
        "data.head()"
      ],
      "metadata": {
        "colab": {
          "base_uri": "https://localhost:8080/",
          "height": 204
        },
        "id": "J5TO8Tgj5vuy",
        "outputId": "8ae418de-0c25-40bb-9684-6576b42303dc"
      },
      "execution_count": 8,
      "outputs": [
        {
          "output_type": "execute_result",
          "data": {
            "text/plain": [
              "                                                text  label\n",
              "0  I grew up (b. 1965) watching and loving the Th...      0\n",
              "1  When I put this movie in my DVD player, and sa...      0\n",
              "2  Why do people who do not know what a particula...      0\n",
              "3  Even though I have great interest in Biblical ...      0\n",
              "4  Im a die hard Dads Army fan and nothing will e...      1"
            ],
            "text/html": [
              "\n",
              "  <div id=\"df-2a41ef2b-206a-43ba-9acf-6cfcf311423b\" class=\"colab-df-container\">\n",
              "    <div>\n",
              "<style scoped>\n",
              "    .dataframe tbody tr th:only-of-type {\n",
              "        vertical-align: middle;\n",
              "    }\n",
              "\n",
              "    .dataframe tbody tr th {\n",
              "        vertical-align: top;\n",
              "    }\n",
              "\n",
              "    .dataframe thead th {\n",
              "        text-align: right;\n",
              "    }\n",
              "</style>\n",
              "<table border=\"1\" class=\"dataframe\">\n",
              "  <thead>\n",
              "    <tr style=\"text-align: right;\">\n",
              "      <th></th>\n",
              "      <th>text</th>\n",
              "      <th>label</th>\n",
              "    </tr>\n",
              "  </thead>\n",
              "  <tbody>\n",
              "    <tr>\n",
              "      <th>0</th>\n",
              "      <td>I grew up (b. 1965) watching and loving the Th...</td>\n",
              "      <td>0</td>\n",
              "    </tr>\n",
              "    <tr>\n",
              "      <th>1</th>\n",
              "      <td>When I put this movie in my DVD player, and sa...</td>\n",
              "      <td>0</td>\n",
              "    </tr>\n",
              "    <tr>\n",
              "      <th>2</th>\n",
              "      <td>Why do people who do not know what a particula...</td>\n",
              "      <td>0</td>\n",
              "    </tr>\n",
              "    <tr>\n",
              "      <th>3</th>\n",
              "      <td>Even though I have great interest in Biblical ...</td>\n",
              "      <td>0</td>\n",
              "    </tr>\n",
              "    <tr>\n",
              "      <th>4</th>\n",
              "      <td>Im a die hard Dads Army fan and nothing will e...</td>\n",
              "      <td>1</td>\n",
              "    </tr>\n",
              "  </tbody>\n",
              "</table>\n",
              "</div>\n",
              "    <div class=\"colab-df-buttons\">\n",
              "\n",
              "  <div class=\"colab-df-container\">\n",
              "    <button class=\"colab-df-convert\" onclick=\"convertToInteractive('df-2a41ef2b-206a-43ba-9acf-6cfcf311423b')\"\n",
              "            title=\"Convert this dataframe to an interactive table.\"\n",
              "            style=\"display:none;\">\n",
              "\n",
              "  <svg xmlns=\"http://www.w3.org/2000/svg\" height=\"24px\" viewBox=\"0 -960 960 960\">\n",
              "    <path d=\"M120-120v-720h720v720H120Zm60-500h600v-160H180v160Zm220 220h160v-160H400v160Zm0 220h160v-160H400v160ZM180-400h160v-160H180v160Zm440 0h160v-160H620v160ZM180-180h160v-160H180v160Zm440 0h160v-160H620v160Z\"/>\n",
              "  </svg>\n",
              "    </button>\n",
              "\n",
              "  <style>\n",
              "    .colab-df-container {\n",
              "      display:flex;\n",
              "      gap: 12px;\n",
              "    }\n",
              "\n",
              "    .colab-df-convert {\n",
              "      background-color: #E8F0FE;\n",
              "      border: none;\n",
              "      border-radius: 50%;\n",
              "      cursor: pointer;\n",
              "      display: none;\n",
              "      fill: #1967D2;\n",
              "      height: 32px;\n",
              "      padding: 0 0 0 0;\n",
              "      width: 32px;\n",
              "    }\n",
              "\n",
              "    .colab-df-convert:hover {\n",
              "      background-color: #E2EBFA;\n",
              "      box-shadow: 0px 1px 2px rgba(60, 64, 67, 0.3), 0px 1px 3px 1px rgba(60, 64, 67, 0.15);\n",
              "      fill: #174EA6;\n",
              "    }\n",
              "\n",
              "    .colab-df-buttons div {\n",
              "      margin-bottom: 4px;\n",
              "    }\n",
              "\n",
              "    [theme=dark] .colab-df-convert {\n",
              "      background-color: #3B4455;\n",
              "      fill: #D2E3FC;\n",
              "    }\n",
              "\n",
              "    [theme=dark] .colab-df-convert:hover {\n",
              "      background-color: #434B5C;\n",
              "      box-shadow: 0px 1px 3px 1px rgba(0, 0, 0, 0.15);\n",
              "      filter: drop-shadow(0px 1px 2px rgba(0, 0, 0, 0.3));\n",
              "      fill: #FFFFFF;\n",
              "    }\n",
              "  </style>\n",
              "\n",
              "    <script>\n",
              "      const buttonEl =\n",
              "        document.querySelector('#df-2a41ef2b-206a-43ba-9acf-6cfcf311423b button.colab-df-convert');\n",
              "      buttonEl.style.display =\n",
              "        google.colab.kernel.accessAllowed ? 'block' : 'none';\n",
              "\n",
              "      async function convertToInteractive(key) {\n",
              "        const element = document.querySelector('#df-2a41ef2b-206a-43ba-9acf-6cfcf311423b');\n",
              "        const dataTable =\n",
              "          await google.colab.kernel.invokeFunction('convertToInteractive',\n",
              "                                                    [key], {});\n",
              "        if (!dataTable) return;\n",
              "\n",
              "        const docLinkHtml = 'Like what you see? Visit the ' +\n",
              "          '<a target=\"_blank\" href=https://colab.research.google.com/notebooks/data_table.ipynb>data table notebook</a>'\n",
              "          + ' to learn more about interactive tables.';\n",
              "        element.innerHTML = '';\n",
              "        dataTable['output_type'] = 'display_data';\n",
              "        await google.colab.output.renderOutput(dataTable, element);\n",
              "        const docLink = document.createElement('div');\n",
              "        docLink.innerHTML = docLinkHtml;\n",
              "        element.appendChild(docLink);\n",
              "      }\n",
              "    </script>\n",
              "  </div>\n",
              "\n",
              "\n",
              "<div id=\"df-7482b2f1-5d56-4274-85de-b2f8c03dd0ea\">\n",
              "  <button class=\"colab-df-quickchart\" onclick=\"quickchart('df-7482b2f1-5d56-4274-85de-b2f8c03dd0ea')\"\n",
              "            title=\"Suggest charts\"\n",
              "            style=\"display:none;\">\n",
              "\n",
              "<svg xmlns=\"http://www.w3.org/2000/svg\" height=\"24px\"viewBox=\"0 0 24 24\"\n",
              "     width=\"24px\">\n",
              "    <g>\n",
              "        <path d=\"M19 3H5c-1.1 0-2 .9-2 2v14c0 1.1.9 2 2 2h14c1.1 0 2-.9 2-2V5c0-1.1-.9-2-2-2zM9 17H7v-7h2v7zm4 0h-2V7h2v10zm4 0h-2v-4h2v4z\"/>\n",
              "    </g>\n",
              "</svg>\n",
              "  </button>\n",
              "\n",
              "<style>\n",
              "  .colab-df-quickchart {\n",
              "      --bg-color: #E8F0FE;\n",
              "      --fill-color: #1967D2;\n",
              "      --hover-bg-color: #E2EBFA;\n",
              "      --hover-fill-color: #174EA6;\n",
              "      --disabled-fill-color: #AAA;\n",
              "      --disabled-bg-color: #DDD;\n",
              "  }\n",
              "\n",
              "  [theme=dark] .colab-df-quickchart {\n",
              "      --bg-color: #3B4455;\n",
              "      --fill-color: #D2E3FC;\n",
              "      --hover-bg-color: #434B5C;\n",
              "      --hover-fill-color: #FFFFFF;\n",
              "      --disabled-bg-color: #3B4455;\n",
              "      --disabled-fill-color: #666;\n",
              "  }\n",
              "\n",
              "  .colab-df-quickchart {\n",
              "    background-color: var(--bg-color);\n",
              "    border: none;\n",
              "    border-radius: 50%;\n",
              "    cursor: pointer;\n",
              "    display: none;\n",
              "    fill: var(--fill-color);\n",
              "    height: 32px;\n",
              "    padding: 0;\n",
              "    width: 32px;\n",
              "  }\n",
              "\n",
              "  .colab-df-quickchart:hover {\n",
              "    background-color: var(--hover-bg-color);\n",
              "    box-shadow: 0 1px 2px rgba(60, 64, 67, 0.3), 0 1px 3px 1px rgba(60, 64, 67, 0.15);\n",
              "    fill: var(--button-hover-fill-color);\n",
              "  }\n",
              "\n",
              "  .colab-df-quickchart-complete:disabled,\n",
              "  .colab-df-quickchart-complete:disabled:hover {\n",
              "    background-color: var(--disabled-bg-color);\n",
              "    fill: var(--disabled-fill-color);\n",
              "    box-shadow: none;\n",
              "  }\n",
              "\n",
              "  .colab-df-spinner {\n",
              "    border: 2px solid var(--fill-color);\n",
              "    border-color: transparent;\n",
              "    border-bottom-color: var(--fill-color);\n",
              "    animation:\n",
              "      spin 1s steps(1) infinite;\n",
              "  }\n",
              "\n",
              "  @keyframes spin {\n",
              "    0% {\n",
              "      border-color: transparent;\n",
              "      border-bottom-color: var(--fill-color);\n",
              "      border-left-color: var(--fill-color);\n",
              "    }\n",
              "    20% {\n",
              "      border-color: transparent;\n",
              "      border-left-color: var(--fill-color);\n",
              "      border-top-color: var(--fill-color);\n",
              "    }\n",
              "    30% {\n",
              "      border-color: transparent;\n",
              "      border-left-color: var(--fill-color);\n",
              "      border-top-color: var(--fill-color);\n",
              "      border-right-color: var(--fill-color);\n",
              "    }\n",
              "    40% {\n",
              "      border-color: transparent;\n",
              "      border-right-color: var(--fill-color);\n",
              "      border-top-color: var(--fill-color);\n",
              "    }\n",
              "    60% {\n",
              "      border-color: transparent;\n",
              "      border-right-color: var(--fill-color);\n",
              "    }\n",
              "    80% {\n",
              "      border-color: transparent;\n",
              "      border-right-color: var(--fill-color);\n",
              "      border-bottom-color: var(--fill-color);\n",
              "    }\n",
              "    90% {\n",
              "      border-color: transparent;\n",
              "      border-bottom-color: var(--fill-color);\n",
              "    }\n",
              "  }\n",
              "</style>\n",
              "\n",
              "  <script>\n",
              "    async function quickchart(key) {\n",
              "      const quickchartButtonEl =\n",
              "        document.querySelector('#' + key + ' button');\n",
              "      quickchartButtonEl.disabled = true;  // To prevent multiple clicks.\n",
              "      quickchartButtonEl.classList.add('colab-df-spinner');\n",
              "      try {\n",
              "        const charts = await google.colab.kernel.invokeFunction(\n",
              "            'suggestCharts', [key], {});\n",
              "      } catch (error) {\n",
              "        console.error('Error during call to suggestCharts:', error);\n",
              "      }\n",
              "      quickchartButtonEl.classList.remove('colab-df-spinner');\n",
              "      quickchartButtonEl.classList.add('colab-df-quickchart-complete');\n",
              "    }\n",
              "    (() => {\n",
              "      let quickchartButtonEl =\n",
              "        document.querySelector('#df-7482b2f1-5d56-4274-85de-b2f8c03dd0ea button');\n",
              "      quickchartButtonEl.style.display =\n",
              "        google.colab.kernel.accessAllowed ? 'block' : 'none';\n",
              "    })();\n",
              "  </script>\n",
              "</div>\n",
              "\n",
              "    </div>\n",
              "  </div>\n"
            ],
            "application/vnd.google.colaboratory.intrinsic+json": {
              "type": "dataframe",
              "variable_name": "data",
              "summary": "{\n  \"name\": \"data\",\n  \"rows\": 40000,\n  \"fields\": [\n    {\n      \"column\": \"text\",\n      \"properties\": {\n        \"dtype\": \"string\",\n        \"num_unique_values\": 39723,\n        \"samples\": [\n          \"There are similarities between Ray Lawrence's \\\"Jindabyne\\\" and his last movie \\\"Lantana\\\" \\u0096 a dead body and its repercussions for already dysfunctional lives. But whereas \\\"Lantana\\\" offered some hope and resolution, \\\"Jindabyne\\\" leaves everything unresolved in a bleak way that will leave most viewers unsatisfied, perhaps even cheated.<br /><br />The storyline - the aftermath of a fisherman's discovery of a corpse floating in a remote river - is based on a short story by Raymond Carver. It became an element in Robert Altman's classic 1993 ensemble \\\"Short Cuts\\\". Lawrence uses this theme for an exploration and exposition of relationships within a small Australian community under stress. The movie poses some moral questions \\\"Would you let the discovery of a dead body ruin your good weekend?\\\" and more poignantly for Australians \\\"Would it make any difference if the dead person was an aboriginal?\\\" The acting, especially by Gabriel Byrne and Laura Linney, is commendable. And there are elements of mysticism reinforced by haunting music, not unlike \\\"Picnic at Hanging Rock\\\".<br /><br />If all this sounds like the basis for a great movie - be prepared for a let down, the pace is very slow and the murder is shown near the beginning, thereby eliminating the element of mystery. And so we are left with these desolate lives and a blank finale.\",\n          \"Hammer House of Horror: Witching Time is set in rural England on Woodstock farm where stressed musician David Winter (Jon Finch) lives with his actress wife Mary (Prunella Gee) & is currently composing the music for a horror film. One night while looking for his dog Billy David finds a mysterious woman in his barn, calling herself Lucinda Jessop (Patricia Quinn) she claims to be a witch who has transported herself from 300 years in the past to now. Obviously rather sceptical David has a hard time believing her so he locks her in a room in his farmhouse & calls his doctor Charles (Ian McCulloch) to come examine her, however once he arrives & they enter the room Lucinda has disappeared. Charles puts it down to David drinking too much but over the next few day strange & disturbing things begin to happen to David & Mary...<br /><br />Witching Time was episode 1 from the short lived British anthology horror series produced by Hammer studios for TV & originally aired here in the UK during September 1980, the first of two Hammer House of Horror episodes to be directed by Don Leaver (episode 13 The Mark of Satan being the other) I actually rather liked this. As a series Hammer House of Horror dealt with various different themes & were all unconnected to each other except in name & unsurprisingly Watching Time is a sinister & effective little tale about a witch, the script by Anthony Read benefits from it's slight 50 odd minute duration & moves along at a nice pace. The character's are pretty good as is the dialogue, there are some nice scenes here & I liked the way it never quite reveals whether David & Mary are going crazy or not. I think it's a well structured, entertaining & reasonably creepy horror themed TV show that I enjoyed more than I thought I would.<br /><br />Being made for British TV meant the boys at Hammer had a lower budget than usual, if that was even possible, & as such there is no gorgeous period settings here as in their most well know Frankenstein & Dracula films although the contemporary English setting does give it a certain atmosphere that you can relate to a bit more. Another TV based restriction is that the exploitation levels are lower than you might hope for, there's some nudity & gore but not much although I didn't mind too much as the story here is pretty good. It's well made for what it is & Hammer's experience on their feature films probably helped make these look pretty good, the acting is good as well with genre favourite Ian McCulloch making a bit-part appearance.<br /><br />Witching Time is a good start to the Hammer House of Horror series, as a 50 minute piece of British TV it's pretty damned good, now why don't they make show's like this over here anymore?\",\n          \"What a great cast for this movie. The timing was excellent and there were so many clever lines-several times I was still laughing minutes after they were delivered. I found Manna From Heaven to have some surprising moments and while there were things I was thinking would happen, the way they came together was anything but predictable. This movie is about hope and righting wrongs. I left the theater feeling inspired to do the right thing. Bravo to the Five Sisters.\"\n        ],\n        \"semantic_type\": \"\",\n        \"description\": \"\"\n      }\n    },\n    {\n      \"column\": \"label\",\n      \"properties\": {\n        \"dtype\": \"number\",\n        \"std\": 0,\n        \"min\": 0,\n        \"max\": 1,\n        \"num_unique_values\": 2,\n        \"samples\": [\n          1,\n          0\n        ],\n        \"semantic_type\": \"\",\n        \"description\": \"\"\n      }\n    }\n  ]\n}"
            }
          },
          "metadata": {},
          "execution_count": 8
        }
      ]
    },
    {
      "cell_type": "code",
      "source": [
        "# Check for null values\n",
        "null_values = data.isnull()\n",
        "print(null_values)"
      ],
      "metadata": {
        "colab": {
          "base_uri": "https://localhost:8080/"
        },
        "id": "nhhPBFSC5zo6",
        "outputId": "1de56f5d-1cda-4aa9-e1ba-36f76772e4e3"
      },
      "execution_count": 9,
      "outputs": [
        {
          "output_type": "stream",
          "name": "stdout",
          "text": [
            "        text  label\n",
            "0      False  False\n",
            "1      False  False\n",
            "2      False  False\n",
            "3      False  False\n",
            "4      False  False\n",
            "...      ...    ...\n",
            "39995  False  False\n",
            "39996  False  False\n",
            "39997  False  False\n",
            "39998  False  False\n",
            "39999  False  False\n",
            "\n",
            "[40000 rows x 2 columns]\n"
          ]
        }
      ]
    },
    {
      "cell_type": "code",
      "source": [
        "len(data)"
      ],
      "metadata": {
        "colab": {
          "base_uri": "https://localhost:8080/"
        },
        "id": "o7WWYdgG6M_y",
        "outputId": "7da8b078-5a42-4a00-9e2a-5243e295d21b"
      },
      "execution_count": 10,
      "outputs": [
        {
          "output_type": "execute_result",
          "data": {
            "text/plain": [
              "40000"
            ]
          },
          "metadata": {},
          "execution_count": 10
        }
      ]
    },
    {
      "cell_type": "code",
      "source": [
        "#display the names of the colums of the data\n",
        "data.columns"
      ],
      "metadata": {
        "colab": {
          "base_uri": "https://localhost:8080/"
        },
        "id": "fykVVdUe6dET",
        "outputId": "99d0a0ec-cdf5-4306-a2d6-a60285d86564"
      },
      "execution_count": 11,
      "outputs": [
        {
          "output_type": "execute_result",
          "data": {
            "text/plain": [
              "Index(['text', 'label'], dtype='object')"
            ]
          },
          "metadata": {},
          "execution_count": 11
        }
      ]
    },
    {
      "cell_type": "code",
      "source": [],
      "metadata": {
        "id": "rkCD880a6r76"
      },
      "execution_count": 11,
      "outputs": []
    },
    {
      "cell_type": "code",
      "source": [
        "text=data['text']"
      ],
      "metadata": {
        "id": "S7Rfj92G6Rmm"
      },
      "execution_count": 12,
      "outputs": []
    },
    {
      "cell_type": "code",
      "source": [
        "text"
      ],
      "metadata": {
        "colab": {
          "base_uri": "https://localhost:8080/",
          "height": 453
        },
        "id": "F34g3L9g6cCH",
        "outputId": "f9f07aab-988a-4080-81f9-8d7ab607e00f"
      },
      "execution_count": 13,
      "outputs": [
        {
          "output_type": "execute_result",
          "data": {
            "text/plain": [
              "0        I grew up (b. 1965) watching and loving the Th...\n",
              "1        When I put this movie in my DVD player, and sa...\n",
              "2        Why do people who do not know what a particula...\n",
              "3        Even though I have great interest in Biblical ...\n",
              "4        Im a die hard Dads Army fan and nothing will e...\n",
              "                               ...                        \n",
              "39995    \"Western Union\" is something of a forgotten cl...\n",
              "39996    This movie is an incredible piece of work. It ...\n",
              "39997    My wife and I watched this movie because we pl...\n",
              "39998    When I first watched Flatliners, I was amazed....\n",
              "39999    Why would this film be so good, but only gross...\n",
              "Name: text, Length: 40000, dtype: object"
            ],
            "text/html": [
              "<div>\n",
              "<style scoped>\n",
              "    .dataframe tbody tr th:only-of-type {\n",
              "        vertical-align: middle;\n",
              "    }\n",
              "\n",
              "    .dataframe tbody tr th {\n",
              "        vertical-align: top;\n",
              "    }\n",
              "\n",
              "    .dataframe thead th {\n",
              "        text-align: right;\n",
              "    }\n",
              "</style>\n",
              "<table border=\"1\" class=\"dataframe\">\n",
              "  <thead>\n",
              "    <tr style=\"text-align: right;\">\n",
              "      <th></th>\n",
              "      <th>text</th>\n",
              "    </tr>\n",
              "  </thead>\n",
              "  <tbody>\n",
              "    <tr>\n",
              "      <th>0</th>\n",
              "      <td>I grew up (b. 1965) watching and loving the Th...</td>\n",
              "    </tr>\n",
              "    <tr>\n",
              "      <th>1</th>\n",
              "      <td>When I put this movie in my DVD player, and sa...</td>\n",
              "    </tr>\n",
              "    <tr>\n",
              "      <th>2</th>\n",
              "      <td>Why do people who do not know what a particula...</td>\n",
              "    </tr>\n",
              "    <tr>\n",
              "      <th>3</th>\n",
              "      <td>Even though I have great interest in Biblical ...</td>\n",
              "    </tr>\n",
              "    <tr>\n",
              "      <th>4</th>\n",
              "      <td>Im a die hard Dads Army fan and nothing will e...</td>\n",
              "    </tr>\n",
              "    <tr>\n",
              "      <th>...</th>\n",
              "      <td>...</td>\n",
              "    </tr>\n",
              "    <tr>\n",
              "      <th>39995</th>\n",
              "      <td>\"Western Union\" is something of a forgotten cl...</td>\n",
              "    </tr>\n",
              "    <tr>\n",
              "      <th>39996</th>\n",
              "      <td>This movie is an incredible piece of work. It ...</td>\n",
              "    </tr>\n",
              "    <tr>\n",
              "      <th>39997</th>\n",
              "      <td>My wife and I watched this movie because we pl...</td>\n",
              "    </tr>\n",
              "    <tr>\n",
              "      <th>39998</th>\n",
              "      <td>When I first watched Flatliners, I was amazed....</td>\n",
              "    </tr>\n",
              "    <tr>\n",
              "      <th>39999</th>\n",
              "      <td>Why would this film be so good, but only gross...</td>\n",
              "    </tr>\n",
              "  </tbody>\n",
              "</table>\n",
              "<p>40000 rows × 1 columns</p>\n",
              "</div><br><label><b>dtype:</b> object</label>"
            ]
          },
          "metadata": {},
          "execution_count": 13
        }
      ]
    },
    {
      "cell_type": "markdown",
      "source": [
        "# Converting All the words to lowercase to make the data case-insensitive and also to eliminate data redundancy"
      ],
      "metadata": {
        "id": "0-QEHQI56JQx"
      }
    },
    {
      "cell_type": "code",
      "source": [
        "text=text.str.lower()"
      ],
      "metadata": {
        "id": "wgD-WkHa7EF0"
      },
      "execution_count": 14,
      "outputs": []
    },
    {
      "cell_type": "code",
      "source": [
        "text"
      ],
      "metadata": {
        "colab": {
          "base_uri": "https://localhost:8080/",
          "height": 453
        },
        "id": "fwtpJ_Ck7JtY",
        "outputId": "86946f5e-072f-4086-863d-b5adcd9659db"
      },
      "execution_count": 15,
      "outputs": [
        {
          "output_type": "execute_result",
          "data": {
            "text/plain": [
              "0        i grew up (b. 1965) watching and loving the th...\n",
              "1        when i put this movie in my dvd player, and sa...\n",
              "2        why do people who do not know what a particula...\n",
              "3        even though i have great interest in biblical ...\n",
              "4        im a die hard dads army fan and nothing will e...\n",
              "                               ...                        \n",
              "39995    \"western union\" is something of a forgotten cl...\n",
              "39996    this movie is an incredible piece of work. it ...\n",
              "39997    my wife and i watched this movie because we pl...\n",
              "39998    when i first watched flatliners, i was amazed....\n",
              "39999    why would this film be so good, but only gross...\n",
              "Name: text, Length: 40000, dtype: object"
            ],
            "text/html": [
              "<div>\n",
              "<style scoped>\n",
              "    .dataframe tbody tr th:only-of-type {\n",
              "        vertical-align: middle;\n",
              "    }\n",
              "\n",
              "    .dataframe tbody tr th {\n",
              "        vertical-align: top;\n",
              "    }\n",
              "\n",
              "    .dataframe thead th {\n",
              "        text-align: right;\n",
              "    }\n",
              "</style>\n",
              "<table border=\"1\" class=\"dataframe\">\n",
              "  <thead>\n",
              "    <tr style=\"text-align: right;\">\n",
              "      <th></th>\n",
              "      <th>text</th>\n",
              "    </tr>\n",
              "  </thead>\n",
              "  <tbody>\n",
              "    <tr>\n",
              "      <th>0</th>\n",
              "      <td>i grew up (b. 1965) watching and loving the th...</td>\n",
              "    </tr>\n",
              "    <tr>\n",
              "      <th>1</th>\n",
              "      <td>when i put this movie in my dvd player, and sa...</td>\n",
              "    </tr>\n",
              "    <tr>\n",
              "      <th>2</th>\n",
              "      <td>why do people who do not know what a particula...</td>\n",
              "    </tr>\n",
              "    <tr>\n",
              "      <th>3</th>\n",
              "      <td>even though i have great interest in biblical ...</td>\n",
              "    </tr>\n",
              "    <tr>\n",
              "      <th>4</th>\n",
              "      <td>im a die hard dads army fan and nothing will e...</td>\n",
              "    </tr>\n",
              "    <tr>\n",
              "      <th>...</th>\n",
              "      <td>...</td>\n",
              "    </tr>\n",
              "    <tr>\n",
              "      <th>39995</th>\n",
              "      <td>\"western union\" is something of a forgotten cl...</td>\n",
              "    </tr>\n",
              "    <tr>\n",
              "      <th>39996</th>\n",
              "      <td>this movie is an incredible piece of work. it ...</td>\n",
              "    </tr>\n",
              "    <tr>\n",
              "      <th>39997</th>\n",
              "      <td>my wife and i watched this movie because we pl...</td>\n",
              "    </tr>\n",
              "    <tr>\n",
              "      <th>39998</th>\n",
              "      <td>when i first watched flatliners, i was amazed....</td>\n",
              "    </tr>\n",
              "    <tr>\n",
              "      <th>39999</th>\n",
              "      <td>why would this film be so good, but only gross...</td>\n",
              "    </tr>\n",
              "  </tbody>\n",
              "</table>\n",
              "<p>40000 rows × 1 columns</p>\n",
              "</div><br><label><b>dtype:</b> object</label>"
            ]
          },
          "metadata": {},
          "execution_count": 15
        }
      ]
    },
    {
      "cell_type": "markdown",
      "source": [
        "# *Tokenizing the datset, where each word in the dataset is assigned a unique number*"
      ],
      "metadata": {
        "id": "CzNoN5aQ6fVQ"
      }
    },
    {
      "cell_type": "code",
      "source": [
        "tokenizer=Tokenizer()\n",
        "tokenizer.fit_on_texts(text)"
      ],
      "metadata": {
        "id": "nrvCjdMZ6tCN"
      },
      "execution_count": 16,
      "outputs": []
    },
    {
      "cell_type": "code",
      "source": [
        "tokenizer.word_index"
      ],
      "metadata": {
        "colab": {
          "base_uri": "https://localhost:8080/"
        },
        "id": "DYkrdGqj61bc",
        "outputId": "17d273b3-6ed6-4e5c-9fed-9666eccbd07f"
      },
      "execution_count": 17,
      "outputs": [
        {
          "output_type": "execute_result",
          "data": {
            "text/plain": [
              "{'the': 1,\n",
              " 'and': 2,\n",
              " 'a': 3,\n",
              " 'of': 4,\n",
              " 'to': 5,\n",
              " 'is': 6,\n",
              " 'br': 7,\n",
              " 'in': 8,\n",
              " 'it': 9,\n",
              " 'i': 10,\n",
              " 'this': 11,\n",
              " 'that': 12,\n",
              " 'was': 13,\n",
              " 'as': 14,\n",
              " 'for': 15,\n",
              " 'movie': 16,\n",
              " 'with': 17,\n",
              " 'but': 18,\n",
              " 'film': 19,\n",
              " 'on': 20,\n",
              " 'you': 21,\n",
              " 'not': 22,\n",
              " 'are': 23,\n",
              " 'his': 24,\n",
              " 'have': 25,\n",
              " 'be': 26,\n",
              " 'one': 27,\n",
              " 'he': 28,\n",
              " 'all': 29,\n",
              " 'at': 30,\n",
              " 'by': 31,\n",
              " 'an': 32,\n",
              " 'they': 33,\n",
              " 'so': 34,\n",
              " 'who': 35,\n",
              " 'from': 36,\n",
              " 'like': 37,\n",
              " 'or': 38,\n",
              " 'just': 39,\n",
              " 'her': 40,\n",
              " 'about': 41,\n",
              " 'out': 42,\n",
              " 'if': 43,\n",
              " \"it's\": 44,\n",
              " 'has': 45,\n",
              " 'there': 46,\n",
              " 'some': 47,\n",
              " 'what': 48,\n",
              " 'good': 49,\n",
              " 'more': 50,\n",
              " 'when': 51,\n",
              " 'very': 52,\n",
              " 'up': 53,\n",
              " 'no': 54,\n",
              " 'time': 55,\n",
              " 'even': 56,\n",
              " 'my': 57,\n",
              " 'would': 58,\n",
              " 'she': 59,\n",
              " 'which': 60,\n",
              " 'only': 61,\n",
              " 'really': 62,\n",
              " 'see': 63,\n",
              " 'story': 64,\n",
              " 'their': 65,\n",
              " 'had': 66,\n",
              " 'can': 67,\n",
              " 'me': 68,\n",
              " 'were': 69,\n",
              " 'well': 70,\n",
              " 'much': 71,\n",
              " 'than': 72,\n",
              " 'we': 73,\n",
              " 'been': 74,\n",
              " 'get': 75,\n",
              " 'bad': 76,\n",
              " 'will': 77,\n",
              " 'also': 78,\n",
              " 'do': 79,\n",
              " 'other': 80,\n",
              " 'great': 81,\n",
              " 'into': 82,\n",
              " 'people': 83,\n",
              " 'because': 84,\n",
              " 'him': 85,\n",
              " 'how': 86,\n",
              " 'first': 87,\n",
              " 'most': 88,\n",
              " \"don't\": 89,\n",
              " 'them': 90,\n",
              " 'then': 91,\n",
              " 'made': 92,\n",
              " 'make': 93,\n",
              " 'its': 94,\n",
              " 'way': 95,\n",
              " 'too': 96,\n",
              " 'movies': 97,\n",
              " 'could': 98,\n",
              " 'any': 99,\n",
              " 'after': 100,\n",
              " 'think': 101,\n",
              " 'characters': 102,\n",
              " 'watch': 103,\n",
              " 'films': 104,\n",
              " 'two': 105,\n",
              " 'seen': 106,\n",
              " 'many': 107,\n",
              " 'character': 108,\n",
              " 'being': 109,\n",
              " 'love': 110,\n",
              " 'never': 111,\n",
              " 'plot': 112,\n",
              " 'acting': 113,\n",
              " 'life': 114,\n",
              " 'did': 115,\n",
              " 'where': 116,\n",
              " 'little': 117,\n",
              " 'best': 118,\n",
              " 'know': 119,\n",
              " 'show': 120,\n",
              " 'over': 121,\n",
              " 'ever': 122,\n",
              " 'off': 123,\n",
              " 'does': 124,\n",
              " 'your': 125,\n",
              " 'better': 126,\n",
              " 'end': 127,\n",
              " 'man': 128,\n",
              " 'still': 129,\n",
              " 'scene': 130,\n",
              " 'say': 131,\n",
              " 'these': 132,\n",
              " 'here': 133,\n",
              " 'why': 134,\n",
              " 'while': 135,\n",
              " 'scenes': 136,\n",
              " 'something': 137,\n",
              " 'go': 138,\n",
              " 'such': 139,\n",
              " 'back': 140,\n",
              " 'through': 141,\n",
              " 'should': 142,\n",
              " 'those': 143,\n",
              " 'real': 144,\n",
              " \"i'm\": 145,\n",
              " 'now': 146,\n",
              " 'watching': 147,\n",
              " 'thing': 148,\n",
              " \"doesn't\": 149,\n",
              " 'actors': 150,\n",
              " 'years': 151,\n",
              " 'though': 152,\n",
              " \"didn't\": 153,\n",
              " '10': 154,\n",
              " 'funny': 155,\n",
              " 'before': 156,\n",
              " 'old': 157,\n",
              " 'actually': 158,\n",
              " 'work': 159,\n",
              " 'another': 160,\n",
              " 'look': 161,\n",
              " 'makes': 162,\n",
              " 'nothing': 163,\n",
              " 'director': 164,\n",
              " 'find': 165,\n",
              " 'going': 166,\n",
              " 'same': 167,\n",
              " 'new': 168,\n",
              " 'lot': 169,\n",
              " 'every': 170,\n",
              " 'few': 171,\n",
              " 'part': 172,\n",
              " 'again': 173,\n",
              " 'down': 174,\n",
              " 'us': 175,\n",
              " 'cast': 176,\n",
              " 'things': 177,\n",
              " 'quite': 178,\n",
              " 'horror': 179,\n",
              " 'pretty': 180,\n",
              " 'want': 181,\n",
              " 'world': 182,\n",
              " 'around': 183,\n",
              " 'seems': 184,\n",
              " 'young': 185,\n",
              " \"can't\": 186,\n",
              " 'take': 187,\n",
              " 'big': 188,\n",
              " 'thought': 189,\n",
              " 'enough': 190,\n",
              " 'however': 191,\n",
              " 'got': 192,\n",
              " 'fact': 193,\n",
              " 'long': 194,\n",
              " 'give': 195,\n",
              " 'both': 196,\n",
              " \"that's\": 197,\n",
              " 'series': 198,\n",
              " \"i've\": 199,\n",
              " 'may': 200,\n",
              " 'between': 201,\n",
              " 'right': 202,\n",
              " 'music': 203,\n",
              " 'own': 204,\n",
              " 'action': 205,\n",
              " 'comedy': 206,\n",
              " 'without': 207,\n",
              " 'must': 208,\n",
              " 'always': 209,\n",
              " 'times': 210,\n",
              " 'original': 211,\n",
              " \"isn't\": 212,\n",
              " 'saw': 213,\n",
              " 'gets': 214,\n",
              " 'almost': 215,\n",
              " 'role': 216,\n",
              " 'guy': 217,\n",
              " 'come': 218,\n",
              " 'done': 219,\n",
              " 'interesting': 220,\n",
              " \"there's\": 221,\n",
              " 'point': 222,\n",
              " 'least': 223,\n",
              " 'whole': 224,\n",
              " 'bit': 225,\n",
              " 'far': 226,\n",
              " 'script': 227,\n",
              " 'feel': 228,\n",
              " 'minutes': 229,\n",
              " '2': 230,\n",
              " \"he's\": 231,\n",
              " 'might': 232,\n",
              " 'last': 233,\n",
              " 'anything': 234,\n",
              " 'making': 235,\n",
              " 'since': 236,\n",
              " 'am': 237,\n",
              " 'family': 238,\n",
              " 'probably': 239,\n",
              " 'tv': 240,\n",
              " 'kind': 241,\n",
              " 'away': 242,\n",
              " 'performance': 243,\n",
              " 'yet': 244,\n",
              " 'fun': 245,\n",
              " 'worst': 246,\n",
              " 'rather': 247,\n",
              " 'girl': 248,\n",
              " 'sure': 249,\n",
              " 'hard': 250,\n",
              " 'anyone': 251,\n",
              " 'played': 252,\n",
              " 'each': 253,\n",
              " 'found': 254,\n",
              " 'day': 255,\n",
              " 'woman': 256,\n",
              " 'especially': 257,\n",
              " 'our': 258,\n",
              " 'looking': 259,\n",
              " 'screen': 260,\n",
              " 'although': 261,\n",
              " 'believe': 262,\n",
              " 'course': 263,\n",
              " 'having': 264,\n",
              " 'trying': 265,\n",
              " 'everything': 266,\n",
              " 'comes': 267,\n",
              " 'ending': 268,\n",
              " 'set': 269,\n",
              " 'dvd': 270,\n",
              " 'goes': 271,\n",
              " 'maybe': 272,\n",
              " 'put': 273,\n",
              " 'three': 274,\n",
              " 'book': 275,\n",
              " 'shows': 276,\n",
              " 'worth': 277,\n",
              " 'place': 278,\n",
              " 'different': 279,\n",
              " 'main': 280,\n",
              " 'once': 281,\n",
              " 'sense': 282,\n",
              " 'american': 283,\n",
              " 'looks': 284,\n",
              " 'effects': 285,\n",
              " 'true': 286,\n",
              " 'watched': 287,\n",
              " 'actor': 288,\n",
              " 'reason': 289,\n",
              " 'play': 290,\n",
              " \"wasn't\": 291,\n",
              " 'money': 292,\n",
              " 'together': 293,\n",
              " 'war': 294,\n",
              " 'during': 295,\n",
              " 'job': 296,\n",
              " 'someone': 297,\n",
              " 'plays': 298,\n",
              " 'instead': 299,\n",
              " 'high': 300,\n",
              " '1': 301,\n",
              " 'said': 302,\n",
              " 'half': 303,\n",
              " 'seem': 304,\n",
              " 'year': 305,\n",
              " 'everyone': 306,\n",
              " 'takes': 307,\n",
              " 'later': 308,\n",
              " 'seeing': 309,\n",
              " 'left': 310,\n",
              " 'black': 311,\n",
              " 'audience': 312,\n",
              " 'special': 313,\n",
              " 'himself': 314,\n",
              " 'beautiful': 315,\n",
              " 'night': 316,\n",
              " 'shot': 317,\n",
              " 'john': 318,\n",
              " 'excellent': 319,\n",
              " 'idea': 320,\n",
              " 'house': 321,\n",
              " 'version': 322,\n",
              " 'star': 323,\n",
              " 'mind': 324,\n",
              " 'wife': 325,\n",
              " 'fan': 326,\n",
              " 'death': 327,\n",
              " 'used': 328,\n",
              " 'budget': 329,\n",
              " 'nice': 330,\n",
              " 'simply': 331,\n",
              " 'short': 332,\n",
              " 'poor': 333,\n",
              " 'else': 334,\n",
              " \"you're\": 335,\n",
              " 'read': 336,\n",
              " 'completely': 337,\n",
              " 'along': 338,\n",
              " '3': 339,\n",
              " 'second': 340,\n",
              " 'men': 341,\n",
              " 'top': 342,\n",
              " 'help': 343,\n",
              " 'less': 344,\n",
              " 'boring': 345,\n",
              " 'home': 346,\n",
              " 'either': 347,\n",
              " 'dead': 348,\n",
              " 'line': 349,\n",
              " 'try': 350,\n",
              " 'kids': 351,\n",
              " 'friends': 352,\n",
              " 'low': 353,\n",
              " 'given': 354,\n",
              " 'wrong': 355,\n",
              " 'enjoy': 356,\n",
              " 'full': 357,\n",
              " 'use': 358,\n",
              " 'camera': 359,\n",
              " 'stupid': 360,\n",
              " 'production': 361,\n",
              " 'classic': 362,\n",
              " 'father': 363,\n",
              " 'need': 364,\n",
              " 'performances': 365,\n",
              " 'until': 366,\n",
              " 'school': 367,\n",
              " 'rest': 368,\n",
              " 'hollywood': 369,\n",
              " 'next': 370,\n",
              " 'couple': 371,\n",
              " 'awful': 372,\n",
              " 'truly': 373,\n",
              " 'video': 374,\n",
              " 'sex': 375,\n",
              " 'start': 376,\n",
              " 'women': 377,\n",
              " 'recommend': 378,\n",
              " 'tell': 379,\n",
              " 'let': 380,\n",
              " 'mean': 381,\n",
              " 'terrible': 382,\n",
              " 'perhaps': 383,\n",
              " 'understand': 384,\n",
              " 'getting': 385,\n",
              " 'face': 386,\n",
              " 'remember': 387,\n",
              " 'came': 388,\n",
              " 'moments': 389,\n",
              " 'name': 390,\n",
              " 'small': 391,\n",
              " 'keep': 392,\n",
              " 'itself': 393,\n",
              " 'playing': 394,\n",
              " 'perfect': 395,\n",
              " 'human': 396,\n",
              " 'definitely': 397,\n",
              " 'style': 398,\n",
              " 'early': 399,\n",
              " 'wonderful': 400,\n",
              " 'episode': 401,\n",
              " 'doing': 402,\n",
              " 'person': 403,\n",
              " 'head': 404,\n",
              " 'others': 405,\n",
              " 'often': 406,\n",
              " 'written': 407,\n",
              " 'stars': 408,\n",
              " 'dialogue': 409,\n",
              " 'piece': 410,\n",
              " 'lines': 411,\n",
              " 'live': 412,\n",
              " 'gives': 413,\n",
              " 'case': 414,\n",
              " \"couldn't\": 415,\n",
              " 'loved': 416,\n",
              " 'laugh': 417,\n",
              " 'certainly': 418,\n",
              " 'yes': 419,\n",
              " 'boy': 420,\n",
              " 'finally': 421,\n",
              " 'absolutely': 422,\n",
              " 'went': 423,\n",
              " 'title': 424,\n",
              " 'lost': 425,\n",
              " 'entertaining': 426,\n",
              " 'liked': 427,\n",
              " 'sort': 428,\n",
              " 'mother': 429,\n",
              " 'worse': 430,\n",
              " 'oh': 431,\n",
              " 'felt': 432,\n",
              " 'become': 433,\n",
              " 'overall': 434,\n",
              " 'hope': 435,\n",
              " 'mr': 436,\n",
              " 'picture': 437,\n",
              " 'entire': 438,\n",
              " 'several': 439,\n",
              " 'cinema': 440,\n",
              " 'supposed': 441,\n",
              " 'based': 442,\n",
              " '5': 443,\n",
              " 'friend': 444,\n",
              " 'drama': 445,\n",
              " 'sound': 446,\n",
              " 'called': 447,\n",
              " 'waste': 448,\n",
              " 'problem': 449,\n",
              " 'care': 450,\n",
              " 'white': 451,\n",
              " 'guys': 452,\n",
              " 'fans': 453,\n",
              " 'beginning': 454,\n",
              " 'dark': 455,\n",
              " '4': 456,\n",
              " 'lead': 457,\n",
              " 'seemed': 458,\n",
              " 'humor': 459,\n",
              " 'wanted': 460,\n",
              " 'totally': 461,\n",
              " 'lives': 462,\n",
              " 'against': 463,\n",
              " 'direction': 464,\n",
              " \"you'll\": 465,\n",
              " \"she's\": 466,\n",
              " 'game': 467,\n",
              " 'guess': 468,\n",
              " 'despite': 469,\n",
              " 'under': 470,\n",
              " 'throughout': 471,\n",
              " 'final': 472,\n",
              " 'example': 473,\n",
              " 'already': 474,\n",
              " 'evil': 475,\n",
              " 'becomes': 476,\n",
              " 'children': 477,\n",
              " 'unfortunately': 478,\n",
              " \"i'd\": 479,\n",
              " 'able': 480,\n",
              " 'turn': 481,\n",
              " 'quality': 482,\n",
              " 'days': 483,\n",
              " 'wants': 484,\n",
              " 'history': 485,\n",
              " 'writing': 486,\n",
              " 'side': 487,\n",
              " 'amazing': 488,\n",
              " 'fine': 489,\n",
              " 'heart': 490,\n",
              " 'flick': 491,\n",
              " 'horrible': 492,\n",
              " 'michael': 493,\n",
              " \"they're\": 494,\n",
              " 'matter': 495,\n",
              " 'son': 496,\n",
              " 'killer': 497,\n",
              " 'b': 498,\n",
              " 'etc': 499,\n",
              " 'run': 500,\n",
              " 'close': 501,\n",
              " \"won't\": 502,\n",
              " 'act': 503,\n",
              " 'kill': 504,\n",
              " 'works': 505,\n",
              " 'turns': 506,\n",
              " 'behind': 507,\n",
              " 'art': 508,\n",
              " 'tries': 509,\n",
              " 'brilliant': 510,\n",
              " 'stuff': 511,\n",
              " 'late': 512,\n",
              " 'parts': 513,\n",
              " 'town': 514,\n",
              " 'gave': 515,\n",
              " 'genre': 516,\n",
              " 'enjoyed': 517,\n",
              " 'past': 518,\n",
              " 'expect': 519,\n",
              " 'eyes': 520,\n",
              " 'directed': 521,\n",
              " 'obviously': 522,\n",
              " 'soon': 523,\n",
              " 'hand': 524,\n",
              " 'favorite': 525,\n",
              " '\\x96': 526,\n",
              " 'car': 527,\n",
              " 'highly': 528,\n",
              " 'themselves': 529,\n",
              " 'hour': 530,\n",
              " 'myself': 531,\n",
              " 'god': 532,\n",
              " 'stop': 533,\n",
              " 'thinking': 534,\n",
              " 'viewer': 535,\n",
              " 'killed': 536,\n",
              " 'child': 537,\n",
              " 'sometimes': 538,\n",
              " 'actress': 539,\n",
              " 'type': 540,\n",
              " 'girls': 541,\n",
              " 'self': 542,\n",
              " 'starts': 543,\n",
              " 'decent': 544,\n",
              " 'city': 545,\n",
              " 'took': 546,\n",
              " 'heard': 547,\n",
              " 'says': 548,\n",
              " 'happens': 549,\n",
              " 'group': 550,\n",
              " 'voice': 551,\n",
              " 'blood': 552,\n",
              " 'kid': 553,\n",
              " 'anyway': 554,\n",
              " 'known': 555,\n",
              " 'except': 556,\n",
              " 'fight': 557,\n",
              " 'slow': 558,\n",
              " 'experience': 559,\n",
              " 'feeling': 560,\n",
              " 'coming': 561,\n",
              " 'daughter': 562,\n",
              " 'leave': 563,\n",
              " 'stories': 564,\n",
              " 'writer': 565,\n",
              " 'roles': 566,\n",
              " 'score': 567,\n",
              " 'involved': 568,\n",
              " 'lack': 569,\n",
              " 'violence': 570,\n",
              " 'complete': 571,\n",
              " 'moment': 572,\n",
              " 'told': 573,\n",
              " 'happen': 574,\n",
              " 'chance': 575,\n",
              " 'save': 576,\n",
              " 'particularly': 577,\n",
              " 'crap': 578,\n",
              " 'please': 579,\n",
              " 'extremely': 580,\n",
              " 'simple': 581,\n",
              " 'wonder': 582,\n",
              " 'hit': 583,\n",
              " 'living': 584,\n",
              " 'ok': 585,\n",
              " 'strong': 586,\n",
              " 'looked': 587,\n",
              " 'police': 588,\n",
              " 'attempt': 589,\n",
              " 'cool': 590,\n",
              " 'hilarious': 591,\n",
              " 'cannot': 592,\n",
              " 'taken': 593,\n",
              " 'age': 594,\n",
              " 's': 595,\n",
              " \"wouldn't\": 596,\n",
              " 'serious': 597,\n",
              " 'song': 598,\n",
              " 'obvious': 599,\n",
              " 'including': 600,\n",
              " 'shown': 601,\n",
              " 'ago': 602,\n",
              " 'hell': 603,\n",
              " 'happened': 604,\n",
              " 'robert': 605,\n",
              " 'murder': 606,\n",
              " 'cut': 607,\n",
              " 'david': 608,\n",
              " 'released': 609,\n",
              " 'gore': 610,\n",
              " 'exactly': 611,\n",
              " 'reality': 612,\n",
              " 'seriously': 613,\n",
              " 'none': 614,\n",
              " 'james': 615,\n",
              " 'jokes': 616,\n",
              " 'hero': 617,\n",
              " 'running': 618,\n",
              " 'english': 619,\n",
              " 'possible': 620,\n",
              " 'across': 621,\n",
              " 'opening': 622,\n",
              " 'usually': 623,\n",
              " 'cinematography': 624,\n",
              " 'number': 625,\n",
              " 'sad': 626,\n",
              " 'alone': 627,\n",
              " 'interest': 628,\n",
              " 'yourself': 629,\n",
              " 'huge': 630,\n",
              " \"film's\": 631,\n",
              " 'saying': 632,\n",
              " 'whose': 633,\n",
              " 'order': 634,\n",
              " 'career': 635,\n",
              " 'documentary': 636,\n",
              " 'ends': 637,\n",
              " 'wish': 638,\n",
              " 'brother': 639,\n",
              " 'hours': 640,\n",
              " 'annoying': 641,\n",
              " 'light': 642,\n",
              " 'level': 643,\n",
              " 'relationship': 644,\n",
              " 'taking': 645,\n",
              " 'view': 646,\n",
              " 'today': 647,\n",
              " 'talent': 648,\n",
              " 'started': 649,\n",
              " 'call': 650,\n",
              " 'four': 651,\n",
              " 'husband': 652,\n",
              " 'shots': 653,\n",
              " 'ridiculous': 654,\n",
              " 'body': 655,\n",
              " 'word': 656,\n",
              " 'middle': 657,\n",
              " 'knew': 658,\n",
              " 'silly': 659,\n",
              " 'opinion': 660,\n",
              " 'ones': 661,\n",
              " 'female': 662,\n",
              " 'scary': 663,\n",
              " 'beyond': 664,\n",
              " 'turned': 665,\n",
              " 'rating': 666,\n",
              " 'mostly': 667,\n",
              " 'usual': 668,\n",
              " \"i'll\": 669,\n",
              " 'knows': 670,\n",
              " 'jack': 671,\n",
              " 'talking': 672,\n",
              " 'disappointed': 673,\n",
              " 'change': 674,\n",
              " 'basically': 675,\n",
              " 'power': 676,\n",
              " 'important': 677,\n",
              " 'country': 678,\n",
              " 'somewhat': 679,\n",
              " 'major': 680,\n",
              " 'strange': 681,\n",
              " 'happy': 682,\n",
              " 'apparently': 683,\n",
              " 'words': 684,\n",
              " 'room': 685,\n",
              " 'novel': 686,\n",
              " 'upon': 687,\n",
              " 'non': 688,\n",
              " 'cheap': 689,\n",
              " 'single': 690,\n",
              " 'modern': 691,\n",
              " 'episodes': 692,\n",
              " 'attention': 693,\n",
              " 'local': 694,\n",
              " 'musical': 695,\n",
              " 'due': 696,\n",
              " 'miss': 697,\n",
              " 'clearly': 698,\n",
              " 'finds': 699,\n",
              " 'television': 700,\n",
              " '7': 701,\n",
              " 'five': 702,\n",
              " \"aren't\": 703,\n",
              " 'problems': 704,\n",
              " 'fast': 705,\n",
              " 'events': 706,\n",
              " 'sequence': 707,\n",
              " 'thriller': 708,\n",
              " 'review': 709,\n",
              " 'die': 710,\n",
              " 'add': 711,\n",
              " 'british': 712,\n",
              " 'ten': 713,\n",
              " 'french': 714,\n",
              " 'tells': 715,\n",
              " 'predictable': 716,\n",
              " 'class': 717,\n",
              " 'entertainment': 718,\n",
              " 'talk': 719,\n",
              " 'moving': 720,\n",
              " 'space': 721,\n",
              " 'future': 722,\n",
              " 'comic': 723,\n",
              " 'straight': 724,\n",
              " 'earth': 725,\n",
              " 'above': 726,\n",
              " 'team': 727,\n",
              " 'sets': 728,\n",
              " 'dialog': 729,\n",
              " 'giving': 730,\n",
              " 'supporting': 731,\n",
              " 'whether': 732,\n",
              " '8': 733,\n",
              " 'soundtrack': 734,\n",
              " 'songs': 735,\n",
              " 'similar': 736,\n",
              " 'enjoyable': 737,\n",
              " 'near': 738,\n",
              " 'easily': 739,\n",
              " 'filmed': 740,\n",
              " 'appears': 741,\n",
              " 'within': 742,\n",
              " 'eye': 743,\n",
              " 'george': 744,\n",
              " 'hate': 745,\n",
              " 'lots': 746,\n",
              " 'sequel': 747,\n",
              " 'dull': 748,\n",
              " 'romantic': 749,\n",
              " 'needs': 750,\n",
              " \"haven't\": 751,\n",
              " 'stay': 752,\n",
              " 'storyline': 753,\n",
              " 'easy': 754,\n",
              " 'clear': 755,\n",
              " 'suspense': 756,\n",
              " 'surprised': 757,\n",
              " 'sorry': 758,\n",
              " 'bring': 759,\n",
              " 'rock': 760,\n",
              " 'mention': 761,\n",
              " 'falls': 762,\n",
              " 'bunch': 763,\n",
              " 'showing': 764,\n",
              " 'certain': 765,\n",
              " 'working': 766,\n",
              " 'tried': 767,\n",
              " 'fall': 768,\n",
              " 'release': 769,\n",
              " 'ways': 770,\n",
              " 'theme': 771,\n",
              " 'message': 772,\n",
              " \"what's\": 773,\n",
              " 'tale': 774,\n",
              " '9': 775,\n",
              " 'monster': 776,\n",
              " 'king': 777,\n",
              " 'doubt': 778,\n",
              " 'theater': 779,\n",
              " 'feels': 780,\n",
              " 'minute': 781,\n",
              " 'typical': 782,\n",
              " 'named': 783,\n",
              " 'stand': 784,\n",
              " 'effort': 785,\n",
              " 'using': 786,\n",
              " 'dr': 787,\n",
              " 't': 788,\n",
              " 'deal': 789,\n",
              " 'buy': 790,\n",
              " 'realistic': 791,\n",
              " 'feature': 792,\n",
              " 'gone': 793,\n",
              " 'avoid': 794,\n",
              " 'editing': 795,\n",
              " 'viewers': 796,\n",
              " 'sister': 797,\n",
              " 'means': 798,\n",
              " 'mystery': 799,\n",
              " 'fantastic': 800,\n",
              " 'among': 801,\n",
              " 'comments': 802,\n",
              " 'nearly': 803,\n",
              " 'kept': 804,\n",
              " 'subject': 805,\n",
              " 'check': 806,\n",
              " 'greatest': 807,\n",
              " 'red': 808,\n",
              " 'follow': 809,\n",
              " 'okay': 810,\n",
              " 'elements': 811,\n",
              " 'famous': 812,\n",
              " 'general': 813,\n",
              " 'lady': 814,\n",
              " 'actual': 815,\n",
              " 'herself': 816,\n",
              " 'crime': 817,\n",
              " 'atmosphere': 818,\n",
              " 'points': 819,\n",
              " 'parents': 820,\n",
              " 'dog': 821,\n",
              " 'viewing': 822,\n",
              " 'form': 823,\n",
              " 'rent': 824,\n",
              " 'begins': 825,\n",
              " 'leads': 826,\n",
              " 'imagine': 827,\n",
              " \"'\": 828,\n",
              " 'richard': 829,\n",
              " 'move': 830,\n",
              " 'oscar': 831,\n",
              " 'killing': 832,\n",
              " 'somehow': 833,\n",
              " 'tom': 834,\n",
              " 'sci': 835,\n",
              " 'fi': 836,\n",
              " 'peter': 837,\n",
              " 'forget': 838,\n",
              " 'brought': 839,\n",
              " 'reviews': 840,\n",
              " 'particular': 841,\n",
              " 'figure': 842,\n",
              " \"you've\": 843,\n",
              " 're': 844,\n",
              " 'material': 845,\n",
              " 'deep': 846,\n",
              " 'surprise': 847,\n",
              " 'average': 848,\n",
              " 'believable': 849,\n",
              " 'weak': 850,\n",
              " 'paul': 851,\n",
              " 'animation': 852,\n",
              " 'note': 853,\n",
              " 'whatever': 854,\n",
              " 'sequences': 855,\n",
              " 'wait': 856,\n",
              " 'lame': 857,\n",
              " 'period': 858,\n",
              " 'learn': 859,\n",
              " 'eventually': 860,\n",
              " 'sit': 861,\n",
              " 'open': 862,\n",
              " 'expected': 863,\n",
              " 'hear': 864,\n",
              " '20': 865,\n",
              " 'decided': 866,\n",
              " 'situation': 867,\n",
              " 'poorly': 868,\n",
              " 'third': 869,\n",
              " 'indeed': 870,\n",
              " 'free': 871,\n",
              " 'acted': 872,\n",
              " 'box': 873,\n",
              " 'premise': 874,\n",
              " 'imdb': 875,\n",
              " 'dance': 876,\n",
              " 'write': 877,\n",
              " 'truth': 878,\n",
              " 'reading': 879,\n",
              " 'romance': 880,\n",
              " 'hot': 881,\n",
              " 'credits': 882,\n",
              " 'cheesy': 883,\n",
              " \"who's\": 884,\n",
              " 'unless': 885,\n",
              " \"let's\": 886,\n",
              " 'society': 887,\n",
              " 'otherwise': 888,\n",
              " 'emotional': 889,\n",
              " 'shame': 890,\n",
              " 'leaves': 891,\n",
              " 'needed': 892,\n",
              " 'forced': 893,\n",
              " 'difficult': 894,\n",
              " 'memorable': 895,\n",
              " 'became': 896,\n",
              " 'meets': 897,\n",
              " 'possibly': 898,\n",
              " 'doctor': 899,\n",
              " 'york': 900,\n",
              " 'begin': 901,\n",
              " 'western': 902,\n",
              " 'meet': 903,\n",
              " 'question': 904,\n",
              " 'season': 905,\n",
              " 'footage': 906,\n",
              " 'gay': 907,\n",
              " 'crew': 908,\n",
              " 'features': 909,\n",
              " 'de': 910,\n",
              " 'boys': 911,\n",
              " 'effect': 912,\n",
              " 'sexual': 913,\n",
              " 'air': 914,\n",
              " 'forward': 915,\n",
              " 'badly': 916,\n",
              " 'superb': 917,\n",
              " 'street': 918,\n",
              " 'screenplay': 919,\n",
              " 'america': 920,\n",
              " 'e': 921,\n",
              " 'plus': 922,\n",
              " 'beauty': 923,\n",
              " 'island': 924,\n",
              " 'hands': 925,\n",
              " 'weird': 926,\n",
              " 'japanese': 927,\n",
              " 'laughs': 928,\n",
              " 'stage': 929,\n",
              " 'masterpiece': 930,\n",
              " 'battle': 931,\n",
              " 'personal': 932,\n",
              " 'whom': 933,\n",
              " 'quickly': 934,\n",
              " 'sounds': 935,\n",
              " 'perfectly': 936,\n",
              " 'nor': 937,\n",
              " 'male': 938,\n",
              " 'worked': 939,\n",
              " 'interested': 940,\n",
              " 'setting': 941,\n",
              " 'previous': 942,\n",
              " 'comment': 943,\n",
              " 'total': 944,\n",
              " 'incredibly': 945,\n",
              " 'inside': 946,\n",
              " 'copy': 947,\n",
              " 'result': 948,\n",
              " 'keeps': 949,\n",
              " 'realize': 950,\n",
              " 'nature': 951,\n",
              " 'fire': 952,\n",
              " 'mark': 953,\n",
              " 'creepy': 954,\n",
              " 'dumb': 955,\n",
              " 'background': 956,\n",
              " 'earlier': 957,\n",
              " 'following': 958,\n",
              " 'crazy': 959,\n",
              " 'appear': 960,\n",
              " 'unique': 961,\n",
              " 'powerful': 962,\n",
              " 'ask': 963,\n",
              " 'rate': 964,\n",
              " 'dramatic': 965,\n",
              " 'pay': 966,\n",
              " 'older': 967,\n",
              " 'towards': 968,\n",
              " 'business': 969,\n",
              " 'girlfriend': 970,\n",
              " 'fairly': 971,\n",
              " 'bill': 972,\n",
              " 'admit': 973,\n",
              " 'front': 974,\n",
              " 'brings': 975,\n",
              " 'apart': 976,\n",
              " 'mess': 977,\n",
              " 'dream': 978,\n",
              " 'writers': 979,\n",
              " 'lee': 980,\n",
              " 'leading': 981,\n",
              " 'development': 982,\n",
              " 'water': 983,\n",
              " 'baby': 984,\n",
              " 'joke': 985,\n",
              " 'political': 986,\n",
              " 'spent': 987,\n",
              " 'cop': 988,\n",
              " 'rich': 989,\n",
              " 'directors': 990,\n",
              " 'plenty': 991,\n",
              " 'various': 992,\n",
              " 'directing': 993,\n",
              " 'joe': 994,\n",
              " 'gun': 995,\n",
              " 'break': 996,\n",
              " 'outside': 997,\n",
              " 'cover': 998,\n",
              " 'meant': 999,\n",
              " 'reasons': 1000,\n",
              " ...}"
            ]
          },
          "metadata": {},
          "execution_count": 17
        }
      ]
    },
    {
      "cell_type": "code",
      "source": [
        "print(\"Number of unique words in the dataset\",len(tokenizer.word_index))"
      ],
      "metadata": {
        "colab": {
          "base_uri": "https://localhost:8080/"
        },
        "id": "EX1PA5PC64Vs",
        "outputId": "6062d847-dc5e-47bc-bec5-a57bf4057c7a"
      },
      "execution_count": 18,
      "outputs": [
        {
          "output_type": "stream",
          "name": "stdout",
          "text": [
            "Number of unique words in the dataset 112203\n"
          ]
        }
      ]
    },
    {
      "cell_type": "markdown",
      "source": [
        "# *Converting the input \"sequence of words\" to \"sequence of numbers\"*"
      ],
      "metadata": {
        "id": "2F2pywsV6xl-"
      }
    },
    {
      "cell_type": "code",
      "source": [
        "input_sequences=tokenizer.texts_to_sequences(text)"
      ],
      "metadata": {
        "id": "5tp-ZHdD7ACw"
      },
      "execution_count": 19,
      "outputs": []
    },
    {
      "cell_type": "code",
      "source": [
        "max_len=max([len(seq) for seq in input_sequences])"
      ],
      "metadata": {
        "id": "tUXl0YjX7nzB"
      },
      "execution_count": 20,
      "outputs": []
    },
    {
      "cell_type": "markdown",
      "source": [
        "# *Making all the input sentences in the dataset to same length by \"PRE-PADDING\"*"
      ],
      "metadata": {
        "id": "m6gWSpCp7Dm2"
      }
    },
    {
      "cell_type": "code",
      "source": [
        "input_sequences=pad_sequences(input_sequences,maxlen=max_len,padding='pre')"
      ],
      "metadata": {
        "id": "pvBpFOUZ7uKO"
      },
      "execution_count": 21,
      "outputs": []
    },
    {
      "cell_type": "code",
      "source": [
        "input_sequences"
      ],
      "metadata": {
        "colab": {
          "base_uri": "https://localhost:8080/"
        },
        "id": "SvT7X0nh745U",
        "outputId": "6e6a0fb0-3b5b-46f3-8b5a-0763a3a6c787"
      },
      "execution_count": 22,
      "outputs": [
        {
          "output_type": "execute_result",
          "data": {
            "text/plain": [
              "array([[   0,    0,    0, ..., 5988,    4, 5890],\n",
              "       [   0,    0,    0, ...,   20, 6238,  240],\n",
              "       [   0,    0,    0, ...,   19, 2293, 5475],\n",
              "       ...,\n",
              "       [   0,    0,    0, ..., 4706,  785,   31],\n",
              "       [   0,    0,    0, ...,    7,  733,  154],\n",
              "       [   0,    0,    0, ...,   57,  943, 6779]], dtype=int32)"
            ]
          },
          "metadata": {},
          "execution_count": 22
        }
      ]
    },
    {
      "cell_type": "code",
      "source": [
        "from tensorflow.keras.utils import to_categorical\n",
        "Y=to_categorical(data['label'],num_classes=2)"
      ],
      "metadata": {
        "id": "LAk6yN9W771L"
      },
      "execution_count": 23,
      "outputs": []
    },
    {
      "cell_type": "markdown",
      "source": [
        "# *Splitting the dataset to Training and Validation datasets*"
      ],
      "metadata": {
        "id": "rAU3hZN17XuF"
      }
    },
    {
      "cell_type": "code",
      "source": [
        "(X_train,X_test,Y_train,Y_test)=train_test_split(input_sequences,Y,test_size=0.25,random_state=42)"
      ],
      "metadata": {
        "id": "H1i_Anb18Pm-"
      },
      "execution_count": 24,
      "outputs": []
    },
    {
      "cell_type": "markdown",
      "source": [
        "# *Developing the Model:*\n",
        "1. first layer -> Embedding layer producing a dense vector of shape (1,50) for each word\n",
        "2. second layer -> LSTM layer to traverse and understand the input sequence\n",
        "3. third layer -> Dense layer using gimoid function to make prediction as '0' or '1'"
      ],
      "metadata": {
        "id": "UuEiOLLN8ANN"
      }
    },
    {
      "cell_type": "code",
      "source": [
        "model=Sequential()\n",
        "model.add(Embedding(input_dim=len(tokenizer.word_index)+1,output_dim=50,input_length=max_len))\n",
        "model.add(LSTM(units=150))\n",
        "model.add(Dense(units=2,activation='sigmoid'))"
      ],
      "metadata": {
        "colab": {
          "base_uri": "https://localhost:8080/"
        },
        "id": "Q1b_nTWK8gAa",
        "outputId": "5cbde961-7ad5-4982-e761-51feb80793c1"
      },
      "execution_count": 25,
      "outputs": [
        {
          "output_type": "stream",
          "name": "stderr",
          "text": [
            "/usr/local/lib/python3.10/dist-packages/keras/src/layers/core/embedding.py:90: UserWarning: Argument `input_length` is deprecated. Just remove it.\n",
            "  warnings.warn(\n"
          ]
        }
      ]
    },
    {
      "cell_type": "code",
      "source": [
        "model.compile(optimizer='adam',loss='binary_crossentropy',metrics=['accuracy'])"
      ],
      "metadata": {
        "id": "oxNsw0bA82qD"
      },
      "execution_count": 29,
      "outputs": []
    },
    {
      "cell_type": "code",
      "source": [
        "model.build(input_shape=(None, max_len))  # Explicitly build model\n",
        "model.summary()"
      ],
      "metadata": {
        "colab": {
          "base_uri": "https://localhost:8080/",
          "height": 225
        },
        "id": "Fi8z46_185rJ",
        "outputId": "b2dbc380-6b95-4fe8-aed9-067918b1a941"
      },
      "execution_count": 30,
      "outputs": [
        {
          "output_type": "display_data",
          "data": {
            "text/plain": [
              "\u001b[1mModel: \"sequential\"\u001b[0m\n"
            ],
            "text/html": [
              "<pre style=\"white-space:pre;overflow-x:auto;line-height:normal;font-family:Menlo,'DejaVu Sans Mono',consolas,'Courier New',monospace\"><span style=\"font-weight: bold\">Model: \"sequential\"</span>\n",
              "</pre>\n"
            ]
          },
          "metadata": {}
        },
        {
          "output_type": "display_data",
          "data": {
            "text/plain": [
              "┏━━━━━━━━━━━━━━━━━━━━━━━━━━━━━━━━━━━━━━┳━━━━━━━━━━━━━━━━━━━━━━━━━━━━━┳━━━━━━━━━━━━━━━━━┓\n",
              "┃\u001b[1m \u001b[0m\u001b[1mLayer (type)                        \u001b[0m\u001b[1m \u001b[0m┃\u001b[1m \u001b[0m\u001b[1mOutput Shape               \u001b[0m\u001b[1m \u001b[0m┃\u001b[1m \u001b[0m\u001b[1m        Param #\u001b[0m\u001b[1m \u001b[0m┃\n",
              "┡━━━━━━━━━━━━━━━━━━━━━━━━━━━━━━━━━━━━━━╇━━━━━━━━━━━━━━━━━━━━━━━━━━━━━╇━━━━━━━━━━━━━━━━━┩\n",
              "│ embedding (\u001b[38;5;33mEmbedding\u001b[0m)                │ (\u001b[38;5;45mNone\u001b[0m, \u001b[38;5;34m2493\u001b[0m, \u001b[38;5;34m50\u001b[0m)            │       \u001b[38;5;34m5,610,200\u001b[0m │\n",
              "├──────────────────────────────────────┼─────────────────────────────┼─────────────────┤\n",
              "│ lstm (\u001b[38;5;33mLSTM\u001b[0m)                          │ (\u001b[38;5;45mNone\u001b[0m, \u001b[38;5;34m150\u001b[0m)                 │         \u001b[38;5;34m120,600\u001b[0m │\n",
              "├──────────────────────────────────────┼─────────────────────────────┼─────────────────┤\n",
              "│ dense (\u001b[38;5;33mDense\u001b[0m)                        │ (\u001b[38;5;45mNone\u001b[0m, \u001b[38;5;34m2\u001b[0m)                   │             \u001b[38;5;34m302\u001b[0m │\n",
              "└──────────────────────────────────────┴─────────────────────────────┴─────────────────┘\n"
            ],
            "text/html": [
              "<pre style=\"white-space:pre;overflow-x:auto;line-height:normal;font-family:Menlo,'DejaVu Sans Mono',consolas,'Courier New',monospace\">┏━━━━━━━━━━━━━━━━━━━━━━━━━━━━━━━━━━━━━━┳━━━━━━━━━━━━━━━━━━━━━━━━━━━━━┳━━━━━━━━━━━━━━━━━┓\n",
              "┃<span style=\"font-weight: bold\"> Layer (type)                         </span>┃<span style=\"font-weight: bold\"> Output Shape                </span>┃<span style=\"font-weight: bold\">         Param # </span>┃\n",
              "┡━━━━━━━━━━━━━━━━━━━━━━━━━━━━━━━━━━━━━━╇━━━━━━━━━━━━━━━━━━━━━━━━━━━━━╇━━━━━━━━━━━━━━━━━┩\n",
              "│ embedding (<span style=\"color: #0087ff; text-decoration-color: #0087ff\">Embedding</span>)                │ (<span style=\"color: #00d7ff; text-decoration-color: #00d7ff\">None</span>, <span style=\"color: #00af00; text-decoration-color: #00af00\">2493</span>, <span style=\"color: #00af00; text-decoration-color: #00af00\">50</span>)            │       <span style=\"color: #00af00; text-decoration-color: #00af00\">5,610,200</span> │\n",
              "├──────────────────────────────────────┼─────────────────────────────┼─────────────────┤\n",
              "│ lstm (<span style=\"color: #0087ff; text-decoration-color: #0087ff\">LSTM</span>)                          │ (<span style=\"color: #00d7ff; text-decoration-color: #00d7ff\">None</span>, <span style=\"color: #00af00; text-decoration-color: #00af00\">150</span>)                 │         <span style=\"color: #00af00; text-decoration-color: #00af00\">120,600</span> │\n",
              "├──────────────────────────────────────┼─────────────────────────────┼─────────────────┤\n",
              "│ dense (<span style=\"color: #0087ff; text-decoration-color: #0087ff\">Dense</span>)                        │ (<span style=\"color: #00d7ff; text-decoration-color: #00d7ff\">None</span>, <span style=\"color: #00af00; text-decoration-color: #00af00\">2</span>)                   │             <span style=\"color: #00af00; text-decoration-color: #00af00\">302</span> │\n",
              "└──────────────────────────────────────┴─────────────────────────────┴─────────────────┘\n",
              "</pre>\n"
            ]
          },
          "metadata": {}
        },
        {
          "output_type": "display_data",
          "data": {
            "text/plain": [
              "\u001b[1m Total params: \u001b[0m\u001b[38;5;34m5,731,102\u001b[0m (21.86 MB)\n"
            ],
            "text/html": [
              "<pre style=\"white-space:pre;overflow-x:auto;line-height:normal;font-family:Menlo,'DejaVu Sans Mono',consolas,'Courier New',monospace\"><span style=\"font-weight: bold\"> Total params: </span><span style=\"color: #00af00; text-decoration-color: #00af00\">5,731,102</span> (21.86 MB)\n",
              "</pre>\n"
            ]
          },
          "metadata": {}
        },
        {
          "output_type": "display_data",
          "data": {
            "text/plain": [
              "\u001b[1m Trainable params: \u001b[0m\u001b[38;5;34m5,731,102\u001b[0m (21.86 MB)\n"
            ],
            "text/html": [
              "<pre style=\"white-space:pre;overflow-x:auto;line-height:normal;font-family:Menlo,'DejaVu Sans Mono',consolas,'Courier New',monospace\"><span style=\"font-weight: bold\"> Trainable params: </span><span style=\"color: #00af00; text-decoration-color: #00af00\">5,731,102</span> (21.86 MB)\n",
              "</pre>\n"
            ]
          },
          "metadata": {}
        },
        {
          "output_type": "display_data",
          "data": {
            "text/plain": [
              "\u001b[1m Non-trainable params: \u001b[0m\u001b[38;5;34m0\u001b[0m (0.00 B)\n"
            ],
            "text/html": [
              "<pre style=\"white-space:pre;overflow-x:auto;line-height:normal;font-family:Menlo,'DejaVu Sans Mono',consolas,'Courier New',monospace\"><span style=\"font-weight: bold\"> Non-trainable params: </span><span style=\"color: #00af00; text-decoration-color: #00af00\">0</span> (0.00 B)\n",
              "</pre>\n"
            ]
          },
          "metadata": {}
        }
      ]
    },
    {
      "cell_type": "code",
      "source": [
        "history = model.fit(X_train, Y_train,\n",
        "                    epochs=20,\n",
        "                    batch_size=64,\n",
        "                    validation_data=(X_test, Y_test))\n"
      ],
      "metadata": {
        "colab": {
          "base_uri": "https://localhost:8080/"
        },
        "id": "SUF0uJ4T87GQ",
        "outputId": "d80fa0e4-45ed-4ae6-8caf-098126900b73"
      },
      "execution_count": 31,
      "outputs": [
        {
          "output_type": "stream",
          "name": "stdout",
          "text": [
            "Epoch 1/20\n",
            "\u001b[1m469/469\u001b[0m \u001b[32m━━━━━━━━━━━━━━━━━━━━\u001b[0m\u001b[37m\u001b[0m \u001b[1m70s\u001b[0m 146ms/step - accuracy: 0.9848 - loss: 0.0467 - val_accuracy: 0.8748 - val_loss: 0.4839\n",
            "Epoch 2/20\n",
            "\u001b[1m469/469\u001b[0m \u001b[32m━━━━━━━━━━━━━━━━━━━━\u001b[0m\u001b[37m\u001b[0m \u001b[1m79s\u001b[0m 139ms/step - accuracy: 0.9854 - loss: 0.0443 - val_accuracy: 0.8652 - val_loss: 0.4910\n",
            "Epoch 3/20\n",
            "\u001b[1m469/469\u001b[0m \u001b[32m━━━━━━━━━━━━━━━━━━━━\u001b[0m\u001b[37m\u001b[0m \u001b[1m82s\u001b[0m 139ms/step - accuracy: 0.9928 - loss: 0.0243 - val_accuracy: 0.8709 - val_loss: 0.5806\n",
            "Epoch 4/20\n",
            "\u001b[1m469/469\u001b[0m \u001b[32m━━━━━━━━━━━━━━━━━━━━\u001b[0m\u001b[37m\u001b[0m \u001b[1m82s\u001b[0m 139ms/step - accuracy: 0.9982 - loss: 0.0078 - val_accuracy: 0.8704 - val_loss: 0.6418\n",
            "Epoch 5/20\n",
            "\u001b[1m469/469\u001b[0m \u001b[32m━━━━━━━━━━━━━━━━━━━━\u001b[0m\u001b[37m\u001b[0m \u001b[1m65s\u001b[0m 138ms/step - accuracy: 0.9971 - loss: 0.0105 - val_accuracy: 0.8641 - val_loss: 0.6068\n",
            "Epoch 6/20\n",
            "\u001b[1m469/469\u001b[0m \u001b[32m━━━━━━━━━━━━━━━━━━━━\u001b[0m\u001b[37m\u001b[0m \u001b[1m83s\u001b[0m 139ms/step - accuracy: 0.9975 - loss: 0.0084 - val_accuracy: 0.8617 - val_loss: 0.5610\n",
            "Epoch 7/20\n",
            "\u001b[1m469/469\u001b[0m \u001b[32m━━━━━━━━━━━━━━━━━━━━\u001b[0m\u001b[37m\u001b[0m \u001b[1m82s\u001b[0m 139ms/step - accuracy: 0.9964 - loss: 0.0131 - val_accuracy: 0.8675 - val_loss: 0.6341\n",
            "Epoch 8/20\n",
            "\u001b[1m469/469\u001b[0m \u001b[32m━━━━━━━━━━━━━━━━━━━━\u001b[0m\u001b[37m\u001b[0m \u001b[1m82s\u001b[0m 139ms/step - accuracy: 0.9986 - loss: 0.0043 - val_accuracy: 0.8598 - val_loss: 0.7453\n",
            "Epoch 9/20\n",
            "\u001b[1m469/469\u001b[0m \u001b[32m━━━━━━━━━━━━━━━━━━━━\u001b[0m\u001b[37m\u001b[0m \u001b[1m83s\u001b[0m 142ms/step - accuracy: 0.9985 - loss: 0.0047 - val_accuracy: 0.8630 - val_loss: 0.7433\n",
            "Epoch 10/20\n",
            "\u001b[1m469/469\u001b[0m \u001b[32m━━━━━━━━━━━━━━━━━━━━\u001b[0m\u001b[37m\u001b[0m \u001b[1m81s\u001b[0m 141ms/step - accuracy: 0.9882 - loss: 0.0382 - val_accuracy: 0.8609 - val_loss: 0.6323\n",
            "Epoch 11/20\n",
            "\u001b[1m469/469\u001b[0m \u001b[32m━━━━━━━━━━━━━━━━━━━━\u001b[0m\u001b[37m\u001b[0m \u001b[1m81s\u001b[0m 139ms/step - accuracy: 0.9993 - loss: 0.0031 - val_accuracy: 0.8578 - val_loss: 0.7191\n",
            "Epoch 12/20\n",
            "\u001b[1m469/469\u001b[0m \u001b[32m━━━━━━━━━━━━━━━━━━━━\u001b[0m\u001b[37m\u001b[0m \u001b[1m64s\u001b[0m 137ms/step - accuracy: 0.9998 - loss: 0.0018 - val_accuracy: 0.8694 - val_loss: 0.9508\n",
            "Epoch 13/20\n",
            "\u001b[1m469/469\u001b[0m \u001b[32m━━━━━━━━━━━━━━━━━━━━\u001b[0m\u001b[37m\u001b[0m \u001b[1m83s\u001b[0m 139ms/step - accuracy: 0.9997 - loss: 0.0014 - val_accuracy: 0.8514 - val_loss: 0.5806\n",
            "Epoch 14/20\n",
            "\u001b[1m469/469\u001b[0m \u001b[32m━━━━━━━━━━━━━━━━━━━━\u001b[0m\u001b[37m\u001b[0m \u001b[1m68s\u001b[0m 145ms/step - accuracy: 0.9965 - loss: 0.0122 - val_accuracy: 0.8627 - val_loss: 0.7018\n",
            "Epoch 15/20\n",
            "\u001b[1m469/469\u001b[0m \u001b[32m━━━━━━━━━━━━━━━━━━━━\u001b[0m\u001b[37m\u001b[0m \u001b[1m79s\u001b[0m 139ms/step - accuracy: 0.9974 - loss: 0.0100 - val_accuracy: 0.8658 - val_loss: 0.7865\n",
            "Epoch 16/20\n",
            "\u001b[1m469/469\u001b[0m \u001b[32m━━━━━━━━━━━━━━━━━━━━\u001b[0m\u001b[37m\u001b[0m \u001b[1m82s\u001b[0m 139ms/step - accuracy: 0.9988 - loss: 0.0042 - val_accuracy: 0.8669 - val_loss: 0.8371\n",
            "Epoch 17/20\n",
            "\u001b[1m469/469\u001b[0m \u001b[32m━━━━━━━━━━━━━━━━━━━━\u001b[0m\u001b[37m\u001b[0m \u001b[1m82s\u001b[0m 139ms/step - accuracy: 0.9996 - loss: 0.0016 - val_accuracy: 0.8531 - val_loss: 0.6933\n",
            "Epoch 18/20\n",
            "\u001b[1m469/469\u001b[0m \u001b[32m━━━━━━━━━━━━━━━━━━━━\u001b[0m\u001b[37m\u001b[0m \u001b[1m82s\u001b[0m 139ms/step - accuracy: 0.9987 - loss: 0.0056 - val_accuracy: 0.8645 - val_loss: 0.7134\n",
            "Epoch 19/20\n",
            "\u001b[1m469/469\u001b[0m \u001b[32m━━━━━━━━━━━━━━━━━━━━\u001b[0m\u001b[37m\u001b[0m \u001b[1m82s\u001b[0m 139ms/step - accuracy: 0.9982 - loss: 0.0056 - val_accuracy: 0.8699 - val_loss: 0.8532\n",
            "Epoch 20/20\n",
            "\u001b[1m469/469\u001b[0m \u001b[32m━━━━━━━━━━━━━━━━━━━━\u001b[0m\u001b[37m\u001b[0m \u001b[1m82s\u001b[0m 139ms/step - accuracy: 1.0000 - loss: 4.1339e-04 - val_accuracy: 0.8402 - val_loss: 1.1847\n"
          ]
        }
      ]
    },
    {
      "cell_type": "code",
      "source": [
        "# Extract accuracy values\n",
        "train_accuracy = history.history['accuracy']\n",
        "val_accuracy = history.history['val_accuracy']\n",
        "epochs = range(1, len(train_accuracy) + 1)"
      ],
      "metadata": {
        "id": "lLwZwWwaWSkc"
      },
      "execution_count": 32,
      "outputs": []
    },
    {
      "cell_type": "code",
      "source": [
        "import matplotlib.pyplot as plt"
      ],
      "metadata": {
        "id": "efYDsXooW1c_"
      },
      "execution_count": 33,
      "outputs": []
    },
    {
      "cell_type": "markdown",
      "source": [
        "# *Plotting the Training Accuracy Graph*"
      ],
      "metadata": {
        "id": "3-3sBZ5N9CCr"
      }
    },
    {
      "cell_type": "code",
      "source": [
        "# Plot training accuracy\n",
        "plt.figure(figsize=(10, 5))\n",
        "plt.plot(epochs, train_accuracy, 'b', label='Training Accuracy')\n",
        "plt.title('Training Accuracy')\n",
        "plt.xlabel('Epochs')\n",
        "plt.ylabel('Accuracy')\n",
        "plt.legend()\n",
        "plt.show()"
      ],
      "metadata": {
        "colab": {
          "base_uri": "https://localhost:8080/",
          "height": 451
        },
        "id": "6n4aI6pRWSwW",
        "outputId": "82a558e9-81b0-4aa2-c149-e8d605b9a20f"
      },
      "execution_count": 34,
      "outputs": [
        {
          "output_type": "display_data",
          "data": {
            "text/plain": [
              "<Figure size 1000x500 with 1 Axes>"
            ],
            "image/png": "[encoded data removed]"
          },
          "metadata": {}
        }
      ]
    },
    {
      "cell_type": "markdown",
      "source": [
        "# *Plotting the Validation Accuracy Graph*"
      ],
      "metadata": {
        "id": "bZBKAFZu9Kup"
      }
    },
    {
      "cell_type": "code",
      "source": [
        "# Plot validation accuracy\n",
        "plt.figure(figsize=(10, 5))\n",
        "plt.plot(epochs, val_accuracy, 'r', label='Validation Accuracy')\n",
        "plt.title('Validation Accuracy')\n",
        "plt.xlabel('Epochs')\n",
        "plt.ylabel('Accuracy')\n",
        "plt.legend()\n",
        "plt.show()"
      ],
      "metadata": {
        "colab": {
          "base_uri": "https://localhost:8080/",
          "height": 451
        },
        "id": "ki90bvlSWS2V",
        "outputId": "4303e847-a48d-4138-e4d2-37533721028e"
      },
      "execution_count": 35,
      "outputs": [
        {
          "output_type": "display_data",
          "data": {
            "text/plain": [
              "<Figure size 1000x500 with 1 Axes>"
            ],
            "image/png": "[encoded data removed]"
          },
          "metadata": {}
        }
      ]
    },
    {
      "cell_type": "code",
      "source": [
        "# Combined graph\n",
        "plt.figure(figsize=(10, 5))\n",
        "plt.plot(epochs, train_accuracy, 'b', label='Training Accuracy')\n",
        "plt.plot(epochs, val_accuracy, 'r', label='Validation Accuracy')\n",
        "plt.title('Training and Validation Accuracy')\n",
        "plt.xlabel('Epochs')\n",
        "plt.ylabel('Accuracy')\n",
        "plt.legend()\n",
        "plt.show()"
      ],
      "metadata": {
        "colab": {
          "base_uri": "https://localhost:8080/",
          "height": 455
        },
        "id": "rIrLpDckWcsW",
        "outputId": "ccaee8d4-a217-4c84-8c97-55fc6611c1ee"
      },
      "execution_count": 36,
      "outputs": [
        {
          "output_type": "display_data",
          "data": {
            "text/plain": [
              "<Figure size 1000x500 with 1 Axes>"
            ],
            "image/png": "[encoded data removed]"
          },
          "metadata": {}
        }
      ]
    },
    {
      "cell_type": "code",
      "source": [],
      "metadata": {
        "id": "dkZu5Vz4Wc8v"
      },
      "execution_count": null,
      "outputs": []
    },
    {
      "cell_type": "markdown",
      "source": [
        "# *Saving the Model to drive as 'sentiment_analysis_model.h5' (for future use of the trained model)*"
      ],
      "metadata": {
        "id": "Br9gbw5N9UUq"
      }
    },
    {
      "cell_type": "code",
      "source": [
        "save_path='/content/drive/MyDrive/Projects/SentimentAnalysis'\n",
        "if not os.path.exists(save_path):\n",
        "  os.makedirs(save_path)\n",
        "\n",
        "model.save(os.path.join(save_path,'sentiment_analysis_model.h5'))\n",
        "print(f\"Successfully saved 'sentiment_analysis_model.h5' at {os.path.join(save_path,'sentiment_analysis_model.h5')}\")"
      ],
      "metadata": {
        "id": "lfevBL5W9p1Q",
        "colab": {
          "base_uri": "https://localhost:8080/"
        },
        "outputId": "14e7f9c2-6663-4b49-be32-90e8a0f01ce5"
      },
      "execution_count": 37,
      "outputs": [
        {
          "output_type": "stream",
          "name": "stderr",
          "text": [
            "WARNING:absl:You are saving your model as an HDF5 file via `model.save()` or `keras.saving.save_model(model)`. This file format is considered legacy. We recommend using instead the native Keras format, e.g. `model.save('my_model.keras')` or `keras.saving.save_model(model, 'my_model.keras')`. \n"
          ]
        },
        {
          "output_type": "stream",
          "name": "stdout",
          "text": [
            "Successfully saved 'sentiment_analysis_model.h5' at /content/drive/MyDrive/Projects/SentimentAnalysis/sentiment_analysis_model.h5\n"
          ]
        }
      ]
    },
    {
      "cell_type": "code",
      "source": [
        "test_indices = np.random.randint(low=0, high=len(X_test), size=20)\n",
        "print(test_indices)\n",
        "for idx in test_indices:\n",
        "  # Reshape the input to be a batch of size 1\n",
        "  input_sequence = X_test[idx].reshape(1, -1)\n",
        "  prediction = model.predict(input_sequence)\n",
        "\n",
        "  # Get the predicted class by choosing the class with the higher probability\n",
        "  predicted_class = np.argmax(prediction)  # 0 or 1 depending on which class has the higher probability\n",
        "\n",
        "  print(f\"{X_test[idx]} label={np.argmax(Y_test[idx])} prediction={predicted_class}\")"
      ],
      "metadata": {
        "id": "djvlGmbv_Xfx",
        "colab": {
          "base_uri": "https://localhost:8080/"
        },
        "outputId": "73813bd6-877d-4a4d-eebe-d624fbb9b13b"
      },
      "execution_count": 41,
      "outputs": [
        {
          "output_type": "stream",
          "name": "stdout",
          "text": [
            "[7250 3067 9771 1318 8982 9646 1122 4508 4662 4520  593 5094 1903 8767\n",
            "  368 3259 8077 3380 9670 4627]\n",
            "\u001b[1m1/1\u001b[0m \u001b[32m━━━━━━━━━━━━━━━━━━━━\u001b[0m\u001b[37m\u001b[0m \u001b[1m0s\u001b[0m 43ms/step\n",
            "[    0     0     0 ...     1 50661   516] label=1 prediction=1\n",
            "\u001b[1m1/1\u001b[0m \u001b[32m━━━━━━━━━━━━━━━━━━━━\u001b[0m\u001b[37m\u001b[0m \u001b[1m0s\u001b[0m 42ms/step\n",
            "[   0    0    0 ...    4 6048 1949] label=0 prediction=0\n",
            "\u001b[1m1/1\u001b[0m \u001b[32m━━━━━━━━━━━━━━━━━━━━\u001b[0m\u001b[37m\u001b[0m \u001b[1m0s\u001b[0m 42ms/step\n",
            "[  0   0   0 ...   4 132  83] label=0 prediction=0\n",
            "\u001b[1m1/1\u001b[0m \u001b[32m━━━━━━━━━━━━━━━━━━━━\u001b[0m\u001b[37m\u001b[0m \u001b[1m0s\u001b[0m 42ms/step\n",
            "[  0   0   0 ...  70  92 636] label=1 prediction=1\n",
            "\u001b[1m1/1\u001b[0m \u001b[32m━━━━━━━━━━━━━━━━━━━━\u001b[0m\u001b[37m\u001b[0m \u001b[1m0s\u001b[0m 45ms/step\n",
            "[    0     0     0 ... 14191  1369    21] label=0 prediction=0\n",
            "\u001b[1m1/1\u001b[0m \u001b[32m━━━━━━━━━━━━━━━━━━━━\u001b[0m\u001b[37m\u001b[0m \u001b[1m0s\u001b[0m 42ms/step\n",
            "[   0    0    0 ...    4 1551  647] label=1 prediction=1\n",
            "\u001b[1m1/1\u001b[0m \u001b[32m━━━━━━━━━━━━━━━━━━━━\u001b[0m\u001b[37m\u001b[0m \u001b[1m0s\u001b[0m 43ms/step\n",
            "[  0   0   0 ... 490 733 154] label=1 prediction=1\n",
            "\u001b[1m1/1\u001b[0m \u001b[32m━━━━━━━━━━━━━━━━━━━━\u001b[0m\u001b[37m\u001b[0m \u001b[1m0s\u001b[0m 42ms/step\n",
            "[   0    0    0 ...    2  993 4362] label=0 prediction=0\n",
            "\u001b[1m1/1\u001b[0m \u001b[32m━━━━━━━━━━━━━━━━━━━━\u001b[0m\u001b[37m\u001b[0m \u001b[1m0s\u001b[0m 43ms/step\n",
            "[    0     0     0 ...  2601 13967  3711] label=1 prediction=1\n",
            "\u001b[1m1/1\u001b[0m \u001b[32m━━━━━━━━━━━━━━━━━━━━\u001b[0m\u001b[37m\u001b[0m \u001b[1m0s\u001b[0m 45ms/step\n",
            "[    0     0     0 ...     1   369 84791] label=0 prediction=0\n",
            "\u001b[1m1/1\u001b[0m \u001b[32m━━━━━━━━━━━━━━━━━━━━\u001b[0m\u001b[37m\u001b[0m \u001b[1m0s\u001b[0m 48ms/step\n",
            "[  0   0   0 ... 103  11  16] label=0 prediction=0\n",
            "\u001b[1m1/1\u001b[0m \u001b[32m━━━━━━━━━━━━━━━━━━━━\u001b[0m\u001b[37m\u001b[0m \u001b[1m0s\u001b[0m 43ms/step\n",
            "[   0    0    0 ... 3147    5 8738] label=1 prediction=1\n",
            "\u001b[1m1/1\u001b[0m \u001b[32m━━━━━━━━━━━━━━━━━━━━\u001b[0m\u001b[37m\u001b[0m \u001b[1m0s\u001b[0m 40ms/step\n",
            "[  0   0   0 ... 649  20  12] label=1 prediction=0\n",
            "\u001b[1m1/1\u001b[0m \u001b[32m━━━━━━━━━━━━━━━━━━━━\u001b[0m\u001b[37m\u001b[0m \u001b[1m0s\u001b[0m 42ms/step\n",
            "[   0    0    0 ...    2 6903  673] label=0 prediction=0\n",
            "\u001b[1m1/1\u001b[0m \u001b[32m━━━━━━━━━━━━━━━━━━━━\u001b[0m\u001b[37m\u001b[0m \u001b[1m0s\u001b[0m 39ms/step\n",
            "[  0   0   0 ... 425  24 404] label=1 prediction=1\n",
            "\u001b[1m1/1\u001b[0m \u001b[32m━━━━━━━━━━━━━━━━━━━━\u001b[0m\u001b[37m\u001b[0m \u001b[1m0s\u001b[0m 48ms/step\n",
            "[   0    0    0 ...   37 5937  151] label=0 prediction=0\n",
            "\u001b[1m1/1\u001b[0m \u001b[32m━━━━━━━━━━━━━━━━━━━━\u001b[0m\u001b[37m\u001b[0m \u001b[1m0s\u001b[0m 39ms/step\n",
            "[    0     0     0 ...  1344 10640 11864] label=0 prediction=0\n",
            "\u001b[1m1/1\u001b[0m \u001b[32m━━━━━━━━━━━━━━━━━━━━\u001b[0m\u001b[37m\u001b[0m \u001b[1m0s\u001b[0m 38ms/step\n",
            "[  0   0   0 ...  57 374 873] label=1 prediction=1\n",
            "\u001b[1m1/1\u001b[0m \u001b[32m━━━━━━━━━━━━━━━━━━━━\u001b[0m\u001b[37m\u001b[0m \u001b[1m0s\u001b[0m 38ms/step\n",
            "[   0    0    0 ...    3 4495   19] label=0 prediction=0\n",
            "\u001b[1m1/1\u001b[0m \u001b[32m━━━━━━━━━━━━━━━━━━━━\u001b[0m\u001b[37m\u001b[0m \u001b[1m0s\u001b[0m 39ms/step\n",
            "[   0    0    0 ...    7   89 1274] label=0 prediction=0\n"
          ]
        }
      ]
    }
  ]
}